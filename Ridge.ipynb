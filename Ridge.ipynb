{
 "cells": [
  {
   "cell_type": "code",
   "execution_count": 1,
   "id": "7da56338-0ba3-45a2-835b-988ff1422967",
   "metadata": {},
   "outputs": [],
   "source": [
    "import pandas as pd\n",
    "import numpy as np\n",
    "from sklearn.model_selection import train_test_split, GridSearchCV\n",
    "from sklearn.linear_model import LinearRegression, Lasso\n",
    "from sklearn.dummy import DummyRegressor\n",
    "from sklearn.metrics import mean_absolute_error, mean_squared_error, r2_score\n",
    "from sklearn.preprocessing import StandardScaler"
   ]
  },
  {
   "cell_type": "code",
   "execution_count": 3,
   "id": "1c4acb81-fc34-4922-b0dd-5aab10bd8a4a",
   "metadata": {},
   "outputs": [],
   "source": [
    "df = pd.read_csv('resources/test.csv')\n",
    "X = pd.get_dummies(df.drop('goals', axis=1), drop_first=True)\n",
    "X = X.dropna()\n",
    "\n",
    "y = df['goals']\n",
    "y = y[X.index]\n",
    "\n",
    "\n",
    "# Remove outliers from y using IQR method\n",
    "Q1 = y.quantile(0.25)\n",
    "Q3 = y.quantile(0.75)\n",
    "IQR = Q3 - Q1\n",
    "lower_bound = Q1 - 1.5 * IQR\n",
    "upper_bound = Q3 + 1.5 * IQR\n",
    "\n",
    "# Filter out outliers\n",
    "non_outliers = (y >= lower_bound) & (y <= upper_bound)\n",
    "X = X[non_outliers]\n",
    "y = y[non_outliers]\n",
    "\n",
    "\n",
    "X_train, X_test, y_train, y_test = train_test_split(X, y, test_size=0.2, random_state=42)"
   ]
  },
  {
   "cell_type": "code",
   "execution_count": 5,
   "id": "1e37776a-a82a-422a-b268-43553364562e",
   "metadata": {},
   "outputs": [
    {
     "name": "stdout",
     "output_type": "stream",
     "text": [
      "Ridge Regression Performance (After Hyperparameter Tuning):\n",
      "Best Alpha: 100\n",
      "R²: 0.56\n",
      "MSE: 0.01\n",
      "MAE: 0.07\n",
      "Best Ridge Prediction: 0.03, Actual: 0.03\n",
      "Worst Ridge Prediction: 0.04, Actual: 0.40\n"
     ]
    },
    {
     "name": "stderr",
     "output_type": "stream",
     "text": [
      "C:\\Users\\pascenby\\AppData\\Local\\anaconda3\\Lib\\site-packages\\sklearn\\linear_model\\_ridge.py:253: LinAlgWarning: Ill-conditioned matrix (rcond=3.17868e-18): result may not be accurate.\n",
      "  dual_coef = linalg.solve(K, y, assume_a=\"pos\", overwrite_a=False)\n"
     ]
    }
   ],
   "source": [
    "from sklearn.linear_model import Ridge\n",
    "from sklearn.model_selection import GridSearchCV\n",
    "from sklearn.metrics import mean_squared_error, r2_score, mean_absolute_error\n",
    "import numpy as np\n",
    "\n",
    "# Define hyperparameter grid for Ridge\n",
    "param_grid = {\n",
    "    'alpha': [0.001, 0.01, 0.1, 1, 10, 100],\n",
    "}\n",
    "\n",
    "# Create Ridge model\n",
    "ridge_model = Ridge()\n",
    "\n",
    "# Set up grid search with cross-validation\n",
    "grid_search_ridge = GridSearchCV(ridge_model, param_grid, cv=5, n_jobs=-1, scoring='neg_mean_squared_error')\n",
    "grid_search_ridge.fit(X_train, y_train)\n",
    "\n",
    "# Get the best model and predictions\n",
    "best_ridge_params = grid_search_ridge.best_params_\n",
    "best_ridge_model = grid_search_ridge.best_estimator_\n",
    "ridge_predictions = best_ridge_model.predict(X_test)\n",
    "\n",
    "# Calculate performance metrics\n",
    "ridge_mse = mean_squared_error(y_test, ridge_predictions)\n",
    "ridge_r2 = r2_score(y_test, ridge_predictions)\n",
    "ridge_mae = mean_absolute_error(y_test, ridge_predictions)\n",
    "\n",
    "# Find best and worst predictions\n",
    "ridge_errors = abs(ridge_predictions - y_test.values)\n",
    "best_ridge_idx = ridge_errors.argmin()\n",
    "worst_ridge_idx = ridge_errors.argmax()\n",
    "\n",
    "best_ridge_prediction = ridge_predictions[best_ridge_idx]\n",
    "worst_ridge_prediction = ridge_predictions[worst_ridge_idx]\n",
    "best_ridge_actual = y_test.iloc[best_ridge_idx]\n",
    "worst_ridge_actual = y_test.iloc[worst_ridge_idx]\n",
    "\n",
    "# Print results for Ridge\n",
    "print(f\"Ridge Regression Performance (After Hyperparameter Tuning):\")\n",
    "print(f\"Best Alpha: {best_ridge_params['alpha']}\")\n",
    "print(f\"R²: {ridge_r2:.2f}\")\n",
    "print(f\"MSE: {ridge_mse:.2f}\")\n",
    "print(f\"MAE: {ridge_mae:.2f}\")\n",
    "print(f\"Best Ridge Prediction: {best_ridge_prediction:.2f}, Actual: {best_ridge_actual:.2f}\")\n",
    "print(f\"Worst Ridge Prediction: {worst_ridge_prediction:.2f}, Actual: {worst_ridge_actual:.2f}\")"
   ]
  },
  {
   "cell_type": "code",
   "execution_count": null,
   "id": "481ba2d9-4494-43f3-9ac0-0e810f54b579",
   "metadata": {},
   "outputs": [],
   "source": []
  }
 ],
 "metadata": {
  "kernelspec": {
   "display_name": "Python 3 (ipykernel)",
   "language": "python",
   "name": "python3"
  },
  "language_info": {
   "codemirror_mode": {
    "name": "ipython",
    "version": 3
   },
   "file_extension": ".py",
   "mimetype": "text/x-python",
   "name": "python",
   "nbconvert_exporter": "python",
   "pygments_lexer": "ipython3",
   "version": "3.12.4"
  }
 },
 "nbformat": 4,
 "nbformat_minor": 5
}
