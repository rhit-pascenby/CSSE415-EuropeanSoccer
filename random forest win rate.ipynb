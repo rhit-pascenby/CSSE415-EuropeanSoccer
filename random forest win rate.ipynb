{
 "cells": [
  {
   "cell_type": "code",
   "execution_count": null,
   "id": "638734f5",
   "metadata": {
    "lines_to_next_cell": 1
   },
   "outputs": [],
   "source": [
    "import pandas as pd\n",
    "from sklearn.preprocessing import StandardScaler\n",
    "from sklearn.model_selection import train_test_split\n",
    "from sklearn.decomposition import PCA\n",
    "\n",
    "def preprocess(df, split_column, drop_first=True):\n",
    "    '''\n",
    "    Does the usual preprocessing steps on a pandas dataframe:\n",
    "    1. Does one-hot encoding\n",
    "    2. Standardizes the data\n",
    "    3. Drop N/A\n",
    "    4. Splits the data into x & y along split_column\n",
    "    5. Returns (x, y)\n",
    "    '''\n",
    "    stds = StandardScaler().set_output(transform='pandas')\n",
    "    df = stds.fit_transform(pd.get_dummies(df, drop_first=drop_first)).dropna()\n",
    "    x = df.drop(split_column, axis=1)\n",
    "    return (x, df[split_column][x.index])\n",
    "\n",
    "def eliminate_outliers(X, y):\n",
    "    '''Removes outliers using the IQR method'''\n",
    "    Q1 = y.quantile(0.25)\n",
    "    Q3 = y.quantile(0.75)\n",
    "    IQR = Q3 - Q1\n",
    "    lower_bound = Q1 - 1.5 * IQR\n",
    "    upper_bound = Q3 + 1.5 * IQR\n",
    "    non_outliers = (y >= lower_bound) & (y <= upper_bound)\n",
    "    X = X[non_outliers]\n",
    "    y = y[non_outliers]\n",
    "    return (X, y)\n",
    "\n",
    "def great_big_preprocessing_chain(df, split_column):\n",
    "    '''Takes care of all the preprocessing stuff where it can get garbage collected'''\n",
    "    (X, y) = preprocess(df, split_column)\n",
    "    (X, y) = eliminate_outliers(X, y)\n",
    "    (X_train, X_test, y_train, y_test) = train_test_split(X, y, test_size=0.2, random_state=42)\n",
    "    pca = PCA(n_components=100)\n",
    "    pca.fit(X_train)\n",
    "    X_train = pca.transform(X_train)\n",
    "    X_test = pca.transform(X_test)\n",
    "    return (X_train, X_test, y_train, y_test)"
   ]
  },
  {
   "cell_type": "code",
   "execution_count": null,
   "id": "91455a8b",
   "metadata": {},
   "outputs": [],
   "source": [
    "import numpy as np"
   ]
  },
  {
   "cell_type": "code",
   "execution_count": null,
   "id": "7ec1670a",
   "metadata": {},
   "outputs": [],
   "source": [
    "X_train, X_test, y_train, y_test = great_big_preprocessing_chain(pd.read_csv('resources/final_data_wins.csv'), 'win_rate')"
   ]
  },
  {
   "cell_type": "code",
   "execution_count": null,
   "id": "8de0ce68",
   "metadata": {
    "lines_to_next_cell": 2
   },
   "outputs": [],
   "source": [
    "from sklearn.tree import plot_tree\n",
    "from sklearn.ensemble import RandomForestRegressor\n",
    "from sklearn.model_selection import GridSearchCV, cross_validate\n",
    "from sklearn.metrics import mean_absolute_error, mean_squared_error, r2_score\n",
    "\n",
    "grid = {\n",
    "    'n_estimators': [10, 100],\n",
    "    'max_depth': [3, 4, 5]\n",
    "}\n",
    "\n",
    "rf = GridSearchCV(RandomForestRegressor(random_state=42),param_grid=grid,return_train_score=True,n_jobs=-1)\n",
    "rf.fit(X_train,y_train)\n",
    "\n",
    "cv_results = cross_validate(rf,X_train,y_train,return_train_score=True)\n",
    "R2_trainCV = cv_results['train_score'].mean()\n",
    "R2_valid   = cv_results['test_score'].mean()\n",
    "predictions = rf.predict(X_test)\n",
    "\n",
    "mse = mean_squared_error(y_test, predictions)\n",
    "mae = mean_absolute_error(y_test, predictions)\n",
    "\n",
    "print('train R2 (CV) =',R2_trainCV,'  valid R2 =',R2_valid)\n",
    "print()\n",
    "R2_train = rf.score(X_train,y_train)\n",
    "R2_test  = rf.score(X_test,y_test)\n",
    "print('     train R2 =',R2_train,'    test R2 =',R2_test)\n",
    "print('mse = ' + str(mse))\n",
    "print('mae = ' + str(mae))"
   ]
  },
  {
   "cell_type": "code",
   "execution_count": null,
   "id": "45cbd009",
   "metadata": {},
   "outputs": [],
   "source": []
  }
 ],
 "metadata": {
  "kernelspec": {
   "display_name": "Python 3 (ipykernel)",
   "language": "python",
   "name": "python3"
  }
 },
 "nbformat": 4,
 "nbformat_minor": 5
}