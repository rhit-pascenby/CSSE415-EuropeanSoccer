{
 "cells": [
  {
   "cell_type": "code",
   "execution_count": null,
   "id": "9c81c3f5",
   "metadata": {
    "lines_to_next_cell": 1
   },
   "outputs": [],
   "source": [
    "import pandas as pd\n",
    "from sklearn.preprocessing import StandardScaler\n",
    "def preprocess(df, split_column, drop_first=True):\n",
    "    '''\n",
    "    Does the usual preprocessing steps on a pandas dataframe:\n",
    "    1. Does one-hot encoding\n",
    "    2. Standardizes the data\n",
    "    3. Drop N/A\n",
    "    4. Splits the data into x & y along split_column\n",
    "    5. Returns (x, y)\n",
    "    '''\n",
    "    stds = StandardScaler().set_output(transform='pandas')\n",
    "    df = stds.fit_transform(pd.get_dummies(df, drop_first=drop_first)).dropna()\n",
    "    x = df.drop(split_column, axis=1)\n",
    "    return (x, df[split_column][x.index])"
   ]
  },
  {
   "cell_type": "code",
   "execution_count": null,
   "id": "5b4dcd23",
   "metadata": {},
   "outputs": [],
   "source": [
    "import sqlite3\n",
    "import pandas as pd"
   ]
  },
  {
   "cell_type": "code",
   "execution_count": null,
   "id": "01f663a5",
   "metadata": {},
   "outputs": [],
   "source": [
    "conn = sqlite3.connect('resources/database.sqlite') "
   ]
  },
  {
   "cell_type": "code",
   "execution_count": null,
   "id": "ef7969f6",
   "metadata": {},
   "outputs": [],
   "source": [
    "df2 = pd.read_sql_query(\"SELECT * FROM player_attributes INNER JOIN Player ON Player.id = player_attributes.id\", conn)\n",
    "df2.shape"
   ]
  },
  {
   "cell_type": "code",
   "execution_count": null,
   "id": "d5295f75",
   "metadata": {},
   "outputs": [],
   "source": [
    "df1 = pd.read_csv('resources/final_data.csv')\n",
    "df1.rename(columns={'name': 'player_name'}, inplace=True)"
   ]
  },
  {
   "cell_type": "code",
   "execution_count": null,
   "id": "e8b94822",
   "metadata": {},
   "outputs": [],
   "source": [
    "merged_df = pd.merge(df1, df2, on='player_name')\n",
    "merged_df = merged_df.dropna()  # Drop rows with missing values\n",
    "merged_df = merged_df.drop_duplicates(subset='player_name')  \n",
    "\n",
    "merged_df.shape"
   ]
  },
  {
   "cell_type": "code",
   "execution_count": null,
   "id": "1267e0cc",
   "metadata": {},
   "outputs": [],
   "source": [
    "merged_df['goal_per_appearance'] = merged_df['goals'] / merged_df['appearance']\n",
    "merged_df['assist_per_appearance'] = merged_df['assists'] / merged_df['appearance']"
   ]
  },
  {
   "cell_type": "code",
   "execution_count": null,
   "id": "71815c38",
   "metadata": {
    "lines_to_next_cell": 2
   },
   "outputs": [],
   "source": [
    "merged_df.head()"
   ]
  },
  {
   "cell_type": "code",
   "execution_count": null,
   "id": "e468338b",
   "metadata": {},
   "outputs": [],
   "source": [
    "merged_df.to_csv(\"resources/test.csv\", index=False)"
   ]
  },
  {
   "cell_type": "code",
   "execution_count": null,
   "id": "a85eeb0b",
   "metadata": {},
   "outputs": [],
   "source": []
  },
  {
   "cell_type": "code",
   "execution_count": null,
   "id": "31207570",
   "metadata": {},
   "outputs": [],
   "source": [
    "import pandas as pd\n",
    "import numpy as np\n",
    "from sklearn.model_selection import train_test_split\n",
    "from sklearn.linear_model import LinearRegression\n",
    "from sklearn.metrics import mean_squared_error\n",
    "from sklearn.dummy import DummyRegressor\n",
    "\n",
    "\n",
    "(X, y) = preprocess(merged_df, 'goals')\n",
    "\n",
    "X_train, X_test, y_train, y_test = train_test_split(X, y, test_size=0.2, random_state=42)\n",
    "\n",
    "\n",
    "model = LinearRegression()\n",
    "model.fit(X_train, y_train)\n",
    "\n",
    "y_pred = model.predict(X_test)\n",
    "mse = mean_squared_error(y_test, y_pred)\n",
    "print(f'Mean Squared Error: {mse}')\n",
    "\n",
    "#Baseline\n",
    "dummy = DummyRegressor(strategy='mean')\n",
    "dummy.fit(X_train, y_train)\n",
    "y_dummy_pred = dummy.predict(X_test)\n",
    "baseline_mse = mean_squared_error(y_test, y_dummy_pred)\n",
    "print(f'Baseline MSE: {baseline_mse}')\n",
    "\n"
   ]
  },
  {
   "cell_type": "code",
   "execution_count": null,
   "id": "060477d2",
   "metadata": {},
   "outputs": [],
   "source": [
    "print(y.describe())"
   ]
  },
  {
   "cell_type": "code",
   "execution_count": null,
   "id": "72bf50ed",
   "metadata": {
    "lines_to_next_cell": 2
   },
   "outputs": [],
   "source": [
    "rmse = np.sqrt(0.0008381504680398298)\n",
    "print(\"RMSE:\", rmse)"
   ]
  }
 ],
 "metadata": {
  "kernelspec": {
   "display_name": "Python 3 (ipykernel)",
   "language": "python",
   "name": "python3"
  }
 },
 "nbformat": 4,
 "nbformat_minor": 5
}