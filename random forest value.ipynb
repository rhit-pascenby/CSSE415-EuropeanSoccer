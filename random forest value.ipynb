{
 "cells": [
  {
   "cell_type": "code",
   "execution_count": 1,
   "id": "756f4024",
   "metadata": {
    "lines_to_next_cell": 1
   },
   "outputs": [],
   "source": [
    "import pandas as pd\n",
    "from sklearn.preprocessing import StandardScaler\n",
    "from sklearn.model_selection import train_test_split\n",
    "from sklearn.decomposition import PCA\n",
    "\n",
    "def preprocess(df, split_column, drop_first=True):\n",
    "    '''\n",
    "    Does the usual preprocessing steps on a pandas dataframe:\n",
    "    1. Does one-hot encoding\n",
    "    2. Standardizes the data\n",
    "    3. Drop N/A\n",
    "    4. Splits the data into x & y along split_column\n",
    "    5. Returns (x, y)\n",
    "    '''\n",
    "    stds = StandardScaler().set_output(transform='pandas')\n",
    "    df = stds.fit_transform(pd.get_dummies(df, drop_first=drop_first)).dropna()\n",
    "    x = df.drop(split_column, axis=1)\n",
    "    return (x, df[split_column][x.index])\n",
    "\n",
    "def eliminate_outliers(X, y):\n",
    "    '''Removes outliers using the IQR method'''\n",
    "    Q1 = y.quantile(0.25)\n",
    "    Q3 = y.quantile(0.75)\n",
    "    IQR = Q3 - Q1\n",
    "    lower_bound = Q1 - 1.5 * IQR\n",
    "    upper_bound = Q3 + 1.5 * IQR\n",
    "    non_outliers = (y >= lower_bound) & (y <= upper_bound)\n",
    "    X = X[non_outliers]\n",
    "    y = y[non_outliers]\n",
    "    return (X, y)\n",
    "\n",
    "def great_big_preprocessing_chain(df, split_column):\n",
    "    '''Takes care of all the preprocessing stuff where it can get garbage collected'''\n",
    "    (X, y) = preprocess(df, split_column)\n",
    "    (X, y) = eliminate_outliers(X, y)\n",
    "    (X_train, X_test, y_train, y_test) = train_test_split(X, y, test_size=0.2, random_state=42)\n",
    "    pca = PCA()\n",
    "    pca.fit(X_train)\n",
    "    X_train = pca.transform(X_train)\n",
    "    X_test = pca.transform(X_test)\n",
    "    return (X_train, X_test, y_train, y_test)"
   ]
  },
  {
   "cell_type": "code",
   "execution_count": 2,
   "id": "975d99b5",
   "metadata": {},
   "outputs": [],
   "source": [
    "import numpy as np\n",
    "import sqlite3"
   ]
  },
  {
   "cell_type": "code",
   "execution_count": 3,
   "id": "38a1c628",
   "metadata": {},
   "outputs": [],
   "source": [
    "conn = sqlite3.connect('resources/database.sqlite') "
   ]
  },
  {
   "cell_type": "code",
   "execution_count": 4,
   "id": "777292d1",
   "metadata": {},
   "outputs": [
    {
     "data": {
      "text/plain": [
       "(11060, 49)"
      ]
     },
     "execution_count": 4,
     "metadata": {},
     "output_type": "execute_result"
    }
   ],
   "source": [
    "df2 = pd.read_sql_query(\"SELECT * FROM player_attributes INNER JOIN Player ON Player.id = player_attributes.id\", conn)\n",
    "df2.shape"
   ]
  },
  {
   "cell_type": "code",
   "execution_count": 5,
   "id": "abf16500",
   "metadata": {},
   "outputs": [],
   "source": [
    "df1 = pd.read_csv('resources/final_data.csv')\n",
    "df1.rename(columns={'name': 'player_name'}, inplace=True)"
   ]
  },
  {
   "cell_type": "code",
   "execution_count": 6,
   "id": "a8b615a3",
   "metadata": {},
   "outputs": [
    {
     "data": {
      "text/plain": [
       "(1220, 70)"
      ]
     },
     "execution_count": 6,
     "metadata": {},
     "output_type": "execute_result"
    }
   ],
   "source": [
    "merged_df = pd.merge(df1, df2, on='player_name')\n",
    "merged_df = merged_df.dropna()  # Drop rows with missing values\n",
    "merged_df = merged_df.drop_duplicates(subset='player_name')  \n",
    "\n",
    "merged_df.shape"
   ]
  },
  {
   "cell_type": "code",
   "execution_count": 7,
   "id": "e9901016",
   "metadata": {},
   "outputs": [],
   "source": [
    "merged_df['goal_per_appearance'] = merged_df['goals'] / merged_df['appearance']\n",
    "merged_df['assist_per_appearance'] = merged_df['assists'] / merged_df['appearance']"
   ]
  },
  {
   "cell_type": "code",
   "execution_count": 8,
   "id": "9f71bfff",
   "metadata": {
    "lines_to_next_cell": 2
   },
   "outputs": [
    {
     "data": {
      "text/html": [
       "<div>\n",
       "<style scoped>\n",
       "    .dataframe tbody tr th:only-of-type {\n",
       "        vertical-align: middle;\n",
       "    }\n",
       "\n",
       "    .dataframe tbody tr th {\n",
       "        vertical-align: top;\n",
       "    }\n",
       "\n",
       "    .dataframe thead th {\n",
       "        text-align: right;\n",
       "    }\n",
       "</style>\n",
       "<table border=\"1\" class=\"dataframe\">\n",
       "  <thead>\n",
       "    <tr style=\"text-align: right;\">\n",
       "      <th></th>\n",
       "      <th>player</th>\n",
       "      <th>team</th>\n",
       "      <th>player_name</th>\n",
       "      <th>position</th>\n",
       "      <th>height_x</th>\n",
       "      <th>age</th>\n",
       "      <th>appearance</th>\n",
       "      <th>goals</th>\n",
       "      <th>assists</th>\n",
       "      <th>yellow cards</th>\n",
       "      <th>...</th>\n",
       "      <th>gk_positioning</th>\n",
       "      <th>gk_reflexes</th>\n",
       "      <th>id</th>\n",
       "      <th>player_api_id</th>\n",
       "      <th>player_fifa_api_id</th>\n",
       "      <th>birthday</th>\n",
       "      <th>height_y</th>\n",
       "      <th>weight</th>\n",
       "      <th>goal_per_appearance</th>\n",
       "      <th>assist_per_appearance</th>\n",
       "    </tr>\n",
       "  </thead>\n",
       "  <tbody>\n",
       "    <tr>\n",
       "      <th>0</th>\n",
       "      <td>/jack-butland/profil/spieler/128899</td>\n",
       "      <td>Manchester United</td>\n",
       "      <td>Jack Butland</td>\n",
       "      <td>Goalkeeper</td>\n",
       "      <td>196.0</td>\n",
       "      <td>30.0</td>\n",
       "      <td>15</td>\n",
       "      <td>0.000000</td>\n",
       "      <td>0.000000</td>\n",
       "      <td>0.069018</td>\n",
       "      <td>...</td>\n",
       "      <td>69.0</td>\n",
       "      <td>68.0</td>\n",
       "      <td>4502</td>\n",
       "      <td>288880</td>\n",
       "      <td>203042</td>\n",
       "      <td>1993-03-10 00:00:00</td>\n",
       "      <td>195.58</td>\n",
       "      <td>209</td>\n",
       "      <td>0.000000</td>\n",
       "      <td>0.000000</td>\n",
       "    </tr>\n",
       "    <tr>\n",
       "      <th>1</th>\n",
       "      <td>/tom-heaton/profil/spieler/34130</td>\n",
       "      <td>Manchester United</td>\n",
       "      <td>Tom Heaton</td>\n",
       "      <td>Goalkeeper</td>\n",
       "      <td>188.0</td>\n",
       "      <td>37.0</td>\n",
       "      <td>4</td>\n",
       "      <td>0.000000</td>\n",
       "      <td>0.000000</td>\n",
       "      <td>0.000000</td>\n",
       "      <td>...</td>\n",
       "      <td>75.0</td>\n",
       "      <td>78.0</td>\n",
       "      <td>10377</td>\n",
       "      <td>24155</td>\n",
       "      <td>163264</td>\n",
       "      <td>1986-04-15 00:00:00</td>\n",
       "      <td>187.96</td>\n",
       "      <td>190</td>\n",
       "      <td>0.000000</td>\n",
       "      <td>0.000000</td>\n",
       "    </tr>\n",
       "    <tr>\n",
       "      <th>2</th>\n",
       "      <td>/phil-jones/profil/spieler/117996</td>\n",
       "      <td>Manchester United</td>\n",
       "      <td>Phil Jones</td>\n",
       "      <td>Defender Centre-Back</td>\n",
       "      <td>185.0</td>\n",
       "      <td>31.0</td>\n",
       "      <td>8</td>\n",
       "      <td>0.000000</td>\n",
       "      <td>0.000000</td>\n",
       "      <td>0.216346</td>\n",
       "      <td>...</td>\n",
       "      <td>68.0</td>\n",
       "      <td>72.0</td>\n",
       "      <td>8589</td>\n",
       "      <td>186137</td>\n",
       "      <td>194957</td>\n",
       "      <td>1992-02-21 00:00:00</td>\n",
       "      <td>185.42</td>\n",
       "      <td>157</td>\n",
       "      <td>0.000000</td>\n",
       "      <td>0.000000</td>\n",
       "    </tr>\n",
       "    <tr>\n",
       "      <th>3</th>\n",
       "      <td>/luke-shaw/profil/spieler/183288</td>\n",
       "      <td>Manchester United</td>\n",
       "      <td>Luke Shaw</td>\n",
       "      <td>Defender Left-Back</td>\n",
       "      <td>178.0</td>\n",
       "      <td>27.0</td>\n",
       "      <td>74</td>\n",
       "      <td>0.015374</td>\n",
       "      <td>0.169115</td>\n",
       "      <td>0.353604</td>\n",
       "      <td>...</td>\n",
       "      <td>13.0</td>\n",
       "      <td>8.0</td>\n",
       "      <td>6432</td>\n",
       "      <td>362694</td>\n",
       "      <td>205988</td>\n",
       "      <td>1995-07-12 00:00:00</td>\n",
       "      <td>185.42</td>\n",
       "      <td>165</td>\n",
       "      <td>0.000208</td>\n",
       "      <td>0.002285</td>\n",
       "    </tr>\n",
       "    <tr>\n",
       "      <th>4</th>\n",
       "      <td>/casemiro/profil/spieler/16306</td>\n",
       "      <td>Manchester United</td>\n",
       "      <td>Casemiro</td>\n",
       "      <td>midfield-DefensiveMidfield</td>\n",
       "      <td>185.0</td>\n",
       "      <td>31.0</td>\n",
       "      <td>101</td>\n",
       "      <td>0.090817</td>\n",
       "      <td>0.124874</td>\n",
       "      <td>0.329213</td>\n",
       "      <td>...</td>\n",
       "      <td>70.0</td>\n",
       "      <td>75.0</td>\n",
       "      <td>1596</td>\n",
       "      <td>208494</td>\n",
       "      <td>200145</td>\n",
       "      <td>1992-02-23 00:00:00</td>\n",
       "      <td>182.88</td>\n",
       "      <td>176</td>\n",
       "      <td>0.000899</td>\n",
       "      <td>0.001236</td>\n",
       "    </tr>\n",
       "  </tbody>\n",
       "</table>\n",
       "<p>5 rows × 72 columns</p>\n",
       "</div>"
      ],
      "text/plain": [
       "                                player               team   player_name  \\\n",
       "0  /jack-butland/profil/spieler/128899  Manchester United  Jack Butland   \n",
       "1     /tom-heaton/profil/spieler/34130  Manchester United    Tom Heaton   \n",
       "2    /phil-jones/profil/spieler/117996  Manchester United    Phil Jones   \n",
       "3     /luke-shaw/profil/spieler/183288  Manchester United     Luke Shaw   \n",
       "4       /casemiro/profil/spieler/16306  Manchester United      Casemiro   \n",
       "\n",
       "                     position  height_x   age  appearance     goals   assists  \\\n",
       "0                  Goalkeeper     196.0  30.0          15  0.000000  0.000000   \n",
       "1                  Goalkeeper     188.0  37.0           4  0.000000  0.000000   \n",
       "2        Defender Centre-Back     185.0  31.0           8  0.000000  0.000000   \n",
       "3          Defender Left-Back     178.0  27.0          74  0.015374  0.169115   \n",
       "4  midfield-DefensiveMidfield     185.0  31.0         101  0.090817  0.124874   \n",
       "\n",
       "   yellow cards  ...  gk_positioning  gk_reflexes     id  player_api_id  \\\n",
       "0      0.069018  ...            69.0         68.0   4502         288880   \n",
       "1      0.000000  ...            75.0         78.0  10377          24155   \n",
       "2      0.216346  ...            68.0         72.0   8589         186137   \n",
       "3      0.353604  ...            13.0          8.0   6432         362694   \n",
       "4      0.329213  ...            70.0         75.0   1596         208494   \n",
       "\n",
       "   player_fifa_api_id             birthday  height_y  weight  \\\n",
       "0              203042  1993-03-10 00:00:00    195.58     209   \n",
       "1              163264  1986-04-15 00:00:00    187.96     190   \n",
       "2              194957  1992-02-21 00:00:00    185.42     157   \n",
       "3              205988  1995-07-12 00:00:00    185.42     165   \n",
       "4              200145  1992-02-23 00:00:00    182.88     176   \n",
       "\n",
       "   goal_per_appearance  assist_per_appearance  \n",
       "0             0.000000               0.000000  \n",
       "1             0.000000               0.000000  \n",
       "2             0.000000               0.000000  \n",
       "3             0.000208               0.002285  \n",
       "4             0.000899               0.001236  \n",
       "\n",
       "[5 rows x 72 columns]"
      ]
     },
     "execution_count": 8,
     "metadata": {},
     "output_type": "execute_result"
    }
   ],
   "source": [
    "merged_df.head()"
   ]
  },
  {
   "cell_type": "code",
   "execution_count": 9,
   "id": "d8b29a63",
   "metadata": {},
   "outputs": [],
   "source": [
    "merged_df.to_csv(\"resources/test.csv\", index=False)"
   ]
  },
  {
   "cell_type": "code",
   "execution_count": 10,
   "id": "069669a8",
   "metadata": {},
   "outputs": [],
   "source": [
    "X_train, X_test, y_train, y_test = great_big_preprocessing_chain(merged_df, 'current_value')"
   ]
  },
  {
   "cell_type": "code",
   "execution_count": 11,
   "id": "c0c5cfbb",
   "metadata": {
    "lines_to_next_cell": 2
   },
   "outputs": [
    {
     "name": "stdout",
     "output_type": "stream",
     "text": [
      "train R2 (CV) = 0.47557558944554507   valid R2 = 0.05115947361424382\n",
      "\n",
      "     train R2 = 0.5059262807809011     test R2 = 0.03457244817831062\n",
      "mse = 0.08287297084520451\n",
      "mae = 0.1970545104382699\n"
     ]
    }
   ],
   "source": [
    "from sklearn.tree import plot_tree\n",
    "from sklearn.ensemble import RandomForestRegressor\n",
    "from sklearn.model_selection import GridSearchCV, cross_validate\n",
    "from sklearn.metrics import mean_absolute_error, mean_squared_error, r2_score\n",
    "\n",
    "grid = {\n",
    "    'n_estimators': [10, 100],\n",
    "    'max_depth': [3, 4, 5]\n",
    "}\n",
    "\n",
    "rf = GridSearchCV(RandomForestRegressor(random_state=42),param_grid=grid,return_train_score=True,n_jobs=-1)\n",
    "rf.fit(X_train,y_train)\n",
    "\n",
    "cv_results = cross_validate(rf,X_train,y_train,return_train_score=True)\n",
    "R2_trainCV = cv_results['train_score'].mean()\n",
    "R2_valid   = cv_results['test_score'].mean()\n",
    "predictions = rf.predict(X_test)\n",
    "\n",
    "mse = mean_squared_error(y_test, predictions)\n",
    "mae = mean_absolute_error(y_test, predictions)\n",
    "\n",
    "print('train R2 (CV) =',R2_trainCV,'  valid R2 =',R2_valid)\n",
    "print()\n",
    "R2_train = rf.score(X_train,y_train)\n",
    "R2_test  = rf.score(X_test,y_test)\n",
    "print('     train R2 =',R2_train,'    test R2 =',R2_test)\n",
    "print('mse = ' + str(mse))\n",
    "print('mae = ' + str(mae))"
   ]
  },
  {
   "cell_type": "code",
   "execution_count": null,
   "id": "6c180ba0",
   "metadata": {},
   "outputs": [],
   "source": []
  }
 ],
 "metadata": {
  "kernelspec": {
   "display_name": "Python 3 (ipykernel)",
   "language": "python",
   "name": "python3"
  },
  "language_info": {
   "codemirror_mode": {
    "name": "ipython",
    "version": 3
   },
   "file_extension": ".py",
   "mimetype": "text/x-python",
   "name": "python",
   "nbconvert_exporter": "python",
   "pygments_lexer": "ipython3",
   "version": "3.13.3"
  }
 },
 "nbformat": 4,
 "nbformat_minor": 5
}
