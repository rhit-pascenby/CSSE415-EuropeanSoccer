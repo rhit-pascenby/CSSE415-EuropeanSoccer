{
 "cells": [
  {
   "cell_type": "code",
   "execution_count": 1,
   "id": "a08ad518-5bed-4793-89fa-70fc6d4cf5e6",
   "metadata": {},
   "outputs": [],
   "source": [
    "import pandas as pd\n",
    "import numpy as np\n",
    "from sklearn.model_selection import train_test_split, GridSearchCV\n",
    "from sklearn.linear_model import LinearRegression, Lasso\n",
    "from sklearn.dummy import DummyRegressor\n",
    "from sklearn.metrics import mean_absolute_error, mean_squared_error, r2_score\n",
    "from sklearn.preprocessing import StandardScaler\n"
   ]
  },
  {
   "cell_type": "code",
   "execution_count": 2,
   "id": "ce6a0313-1dd0-406a-88ec-f0531d47297c",
   "metadata": {},
   "outputs": [],
   "source": [
    "df = pd.read_csv('resources/final_data_wins.csv')"
   ]
  },
  {
   "cell_type": "code",
   "execution_count": 3,
   "id": "941cc6c9-47a8-4e45-9d8c-b7ad6cd906f9",
   "metadata": {},
   "outputs": [],
   "source": [
    "X = pd.get_dummies(df.drop('goals', axis=1), drop_first=True)\n",
    "X = X.dropna()\n",
    "\n",
    "y = df['goals']\n",
    "y = y[X.index]\n",
    "\n",
    "\n",
    "# Remove outliers from y using IQR method\n",
    "Q1 = y.quantile(0.25)\n",
    "Q3 = y.quantile(0.75)\n",
    "IQR = Q3 - Q1\n",
    "lower_bound = Q1 - 1.5 * IQR\n",
    "upper_bound = Q3 + 1.5 * IQR\n",
    "\n",
    "# Filter out outliers\n",
    "non_outliers = (y >= lower_bound) & (y <= upper_bound)\n",
    "X = X[non_outliers]\n",
    "y = y[non_outliers]\n",
    "\n",
    "\n",
    "X_train, X_test, y_train, y_test = train_test_split(X, y, test_size=0.2, random_state=42)"
   ]
  },
  {
   "cell_type": "code",
   "execution_count": 4,
   "id": "867107b1-ee47-46b7-88b5-c79177d23118",
   "metadata": {},
   "outputs": [
    {
     "name": "stdout",
     "output_type": "stream",
     "text": [
      "Gradient Boosting Regression Performance (After Hyperparameter Tuning):\n",
      "Best Parameters: {'learning_rate': 0.1, 'max_depth': 4, 'n_estimators': 200}\n",
      "R²: 0.59\n",
      "MSE: 0.01\n",
      "MAE: 0.05\n",
      "Best GBR Prediction: 0.20, Actual: 0.20\n",
      "Worst GBR Prediction: 0.01, Actual: 0.43\n"
     ]
    }
   ],
   "source": [
    "from sklearn.ensemble import GradientBoostingRegressor\n",
    "from sklearn.model_selection import GridSearchCV\n",
    "from sklearn.metrics import mean_squared_error, r2_score, mean_absolute_error\n",
    "\n",
    "\n",
    "param_grid = {\n",
    "    'n_estimators': [100, 200],\n",
    "    'learning_rate': [0.01, 0.1, 0.2],\n",
    "    'max_depth': [3, 4, 5]\n",
    "}\n",
    "\n",
    "# Initialize the model\n",
    "gbr_model = GradientBoostingRegressor(random_state=42)\n",
    "\n",
    "\n",
    "grid_search_gbr = GridSearchCV(gbr_model, param_grid, cv=5, n_jobs=-1, scoring='neg_mean_squared_error')\n",
    "grid_search_gbr.fit(X_train, y_train)\n",
    "\n",
    "\n",
    "best_gbr_params = grid_search_gbr.best_params_\n",
    "best_gbr_model = grid_search_gbr.best_estimator_\n",
    "gbr_predictions = best_gbr_model.predict(X_test)\n",
    "\n",
    "\n",
    "gbr_mse = mean_squared_error(y_test, gbr_predictions)\n",
    "gbr_r2 = r2_score(y_test, gbr_predictions)\n",
    "gbr_mae = mean_absolute_error(y_test, gbr_predictions)\n",
    "\n",
    "\n",
    "gbr_errors = abs(gbr_predictions - y_test.values)\n",
    "best_gbr_idx = gbr_errors.argmin()\n",
    "worst_gbr_idx = gbr_errors.argmax()\n",
    "\n",
    "best_gbr_prediction = gbr_predictions[best_gbr_idx]\n",
    "worst_gbr_prediction = gbr_predictions[worst_gbr_idx]\n",
    "best_gbr_actual = y_test.iloc[best_gbr_idx]\n",
    "worst_gbr_actual = y_test.iloc[worst_gbr_idx]\n",
    "\n",
    "\n",
    "print(f\"Gradient Boosting Regression Performance (After Hyperparameter Tuning):\")\n",
    "print(f\"Best Parameters: {best_gbr_params}\")\n",
    "print(f\"R²: {gbr_r2:.2f}\")\n",
    "print(f\"MSE: {gbr_mse:.2f}\")\n",
    "print(f\"MAE: {gbr_mae:.2f}\")\n",
    "print(f\"Best GBR Prediction: {best_gbr_prediction:.2f}, Actual: {best_gbr_actual:.2f}\")\n",
    "print(f\"Worst GBR Prediction: {worst_gbr_prediction:.2f}, Actual: {worst_gbr_actual:.2f}\")"
   ]
  },
  {
   "cell_type": "code",
   "execution_count": 5,
   "id": "3eda1329-f1cc-4e24-9d38-bf7fae3bfc83",
   "metadata": {},
   "outputs": [
    {
     "name": "stdout",
     "output_type": "stream",
     "text": [
      "Cross-validated R² scores: [0.57887378 0.58976455 0.59981722 0.55378307 0.55187178]\n",
      "Mean CV R²: 0.57\n"
     ]
    }
   ],
   "source": [
    "from sklearn.model_selection import cross_val_score\n",
    "#Check if its overfitting, if CV scores are much lower than test R², this model is likely overfitting to the training set. (its not)\n",
    "cv_scores = cross_val_score(best_gbr_model, X_train, y_train, cv=5, scoring='r2')\n",
    "print(f\"Cross-validated R² scores: {cv_scores}\")\n",
    "print(f\"Mean CV R²: {cv_scores.mean():.2f}\")"
   ]
  },
  {
   "cell_type": "code",
   "execution_count": null,
   "id": "8ab52a3a-b6ef-440d-8bdf-dd329e8494db",
   "metadata": {},
   "outputs": [],
   "source": []
  }
 ],
 "metadata": {
  "kernelspec": {
   "display_name": "Python 3 (ipykernel)",
   "language": "python",
   "name": "python3"
  },
  "language_info": {
   "codemirror_mode": {
    "name": "ipython",
    "version": 3
   },
   "file_extension": ".py",
   "mimetype": "text/x-python",
   "name": "python",
   "nbconvert_exporter": "python",
   "pygments_lexer": "ipython3",
   "version": "3.11.11"
  }
 },
 "nbformat": 4,
 "nbformat_minor": 5
}
