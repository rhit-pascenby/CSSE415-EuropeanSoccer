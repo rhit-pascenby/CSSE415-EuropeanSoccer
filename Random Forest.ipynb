{
 "cells": [
  {
   "cell_type": "code",
   "execution_count": 1,
   "id": "7e5bc256",
   "metadata": {
    "lines_to_next_cell": 1
   },
   "outputs": [],
   "source": [
    "import pandas as pd\n",
    "from sklearn.preprocessing import StandardScaler\n",
    "def preprocess(df, split_column, drop_first=True):\n",
    "    '''\n",
    "    Does the usual preprocessing steps on a pandas dataframe:\n",
    "    1. Does one-hot encoding\n",
    "    2. Standardizes the data\n",
    "    3. Drop N/A\n",
    "    4. Splits the data into x & y along split_column\n",
    "    5. Returns (x, y)\n",
    "    '''\n",
    "    stds = StandardScaler().set_output(transform='pandas')\n",
    "    df = stds.fit_transform(pd.get_dummies(df, drop_first=drop_first)).dropna()\n",
    "    x = df.drop(split_column, axis=1)\n",
    "    return (x, df[split_column][x.index])"
   ]
  },
  {
   "cell_type": "code",
   "execution_count": 2,
   "id": "085255b1",
   "metadata": {},
   "outputs": [],
   "source": [
    "import sqlite3\n",
    "import pandas as pd"
   ]
  },
  {
   "cell_type": "code",
   "execution_count": 3,
   "id": "1000fbc5",
   "metadata": {},
   "outputs": [],
   "source": [
    "conn = sqlite3.connect('resources/database.sqlite') "
   ]
  },
  {
   "cell_type": "code",
   "execution_count": 4,
   "id": "2b825c07",
   "metadata": {},
   "outputs": [
    {
     "data": {
      "text/plain": [
       "(11060, 49)"
      ]
     },
     "execution_count": 4,
     "metadata": {},
     "output_type": "execute_result"
    }
   ],
   "source": [
    "df2 = pd.read_sql_query(\"SELECT * FROM player_attributes INNER JOIN Player ON Player.id = player_attributes.id\", conn)\n",
    "df2.shape"
   ]
  },
  {
   "cell_type": "code",
   "execution_count": 5,
   "id": "f4a07e67",
   "metadata": {},
   "outputs": [],
   "source": [
    "df1 = pd.read_csv('resources/final_data.csv')\n",
    "df1.rename(columns={'name': 'player_name'}, inplace=True)"
   ]
  },
  {
   "cell_type": "code",
   "execution_count": 6,
   "id": "a537fb50",
   "metadata": {},
   "outputs": [
    {
     "data": {
      "text/plain": [
       "(1220, 70)"
      ]
     },
     "execution_count": 6,
     "metadata": {},
     "output_type": "execute_result"
    }
   ],
   "source": [
    "merged_df = pd.merge(df1, df2, on='player_name')\n",
    "merged_df = merged_df.dropna()  # Drop rows with missing values\n",
    "merged_df = merged_df.drop_duplicates(subset='player_name')  \n",
    "\n",
    "merged_df.shape"
   ]
  },
  {
   "cell_type": "code",
   "execution_count": 7,
   "id": "6bf38025",
   "metadata": {},
   "outputs": [],
   "source": [
    "merged_df['goal_per_appearance'] = merged_df['goals'] / merged_df['appearance']\n",
    "merged_df['assist_per_appearance'] = merged_df['assists'] / merged_df['appearance']"
   ]
  },
  {
   "cell_type": "code",
   "execution_count": 8,
   "id": "a29dd572",
   "metadata": {
    "lines_to_next_cell": 2
   },
   "outputs": [
    {
     "data": {
      "text/html": [
       "<div>\n",
       "<style scoped>\n",
       "    .dataframe tbody tr th:only-of-type {\n",
       "        vertical-align: middle;\n",
       "    }\n",
       "\n",
       "    .dataframe tbody tr th {\n",
       "        vertical-align: top;\n",
       "    }\n",
       "\n",
       "    .dataframe thead th {\n",
       "        text-align: right;\n",
       "    }\n",
       "</style>\n",
       "<table border=\"1\" class=\"dataframe\">\n",
       "  <thead>\n",
       "    <tr style=\"text-align: right;\">\n",
       "      <th></th>\n",
       "      <th>player</th>\n",
       "      <th>team</th>\n",
       "      <th>player_name</th>\n",
       "      <th>position</th>\n",
       "      <th>height_x</th>\n",
       "      <th>age</th>\n",
       "      <th>appearance</th>\n",
       "      <th>goals</th>\n",
       "      <th>assists</th>\n",
       "      <th>yellow cards</th>\n",
       "      <th>...</th>\n",
       "      <th>gk_positioning</th>\n",
       "      <th>gk_reflexes</th>\n",
       "      <th>id</th>\n",
       "      <th>player_api_id</th>\n",
       "      <th>player_fifa_api_id</th>\n",
       "      <th>birthday</th>\n",
       "      <th>height_y</th>\n",
       "      <th>weight</th>\n",
       "      <th>goal_per_appearance</th>\n",
       "      <th>assist_per_appearance</th>\n",
       "    </tr>\n",
       "  </thead>\n",
       "  <tbody>\n",
       "    <tr>\n",
       "      <th>0</th>\n",
       "      <td>/jack-butland/profil/spieler/128899</td>\n",
       "      <td>Manchester United</td>\n",
       "      <td>Jack Butland</td>\n",
       "      <td>Goalkeeper</td>\n",
       "      <td>196.0</td>\n",
       "      <td>30.0</td>\n",
       "      <td>15</td>\n",
       "      <td>0.000000</td>\n",
       "      <td>0.000000</td>\n",
       "      <td>0.069018</td>\n",
       "      <td>...</td>\n",
       "      <td>69.0</td>\n",
       "      <td>68.0</td>\n",
       "      <td>4502</td>\n",
       "      <td>288880</td>\n",
       "      <td>203042</td>\n",
       "      <td>1993-03-10 00:00:00</td>\n",
       "      <td>195.58</td>\n",
       "      <td>209</td>\n",
       "      <td>0.000000</td>\n",
       "      <td>0.000000</td>\n",
       "    </tr>\n",
       "    <tr>\n",
       "      <th>1</th>\n",
       "      <td>/tom-heaton/profil/spieler/34130</td>\n",
       "      <td>Manchester United</td>\n",
       "      <td>Tom Heaton</td>\n",
       "      <td>Goalkeeper</td>\n",
       "      <td>188.0</td>\n",
       "      <td>37.0</td>\n",
       "      <td>4</td>\n",
       "      <td>0.000000</td>\n",
       "      <td>0.000000</td>\n",
       "      <td>0.000000</td>\n",
       "      <td>...</td>\n",
       "      <td>75.0</td>\n",
       "      <td>78.0</td>\n",
       "      <td>10377</td>\n",
       "      <td>24155</td>\n",
       "      <td>163264</td>\n",
       "      <td>1986-04-15 00:00:00</td>\n",
       "      <td>187.96</td>\n",
       "      <td>190</td>\n",
       "      <td>0.000000</td>\n",
       "      <td>0.000000</td>\n",
       "    </tr>\n",
       "    <tr>\n",
       "      <th>2</th>\n",
       "      <td>/phil-jones/profil/spieler/117996</td>\n",
       "      <td>Manchester United</td>\n",
       "      <td>Phil Jones</td>\n",
       "      <td>Defender Centre-Back</td>\n",
       "      <td>185.0</td>\n",
       "      <td>31.0</td>\n",
       "      <td>8</td>\n",
       "      <td>0.000000</td>\n",
       "      <td>0.000000</td>\n",
       "      <td>0.216346</td>\n",
       "      <td>...</td>\n",
       "      <td>68.0</td>\n",
       "      <td>72.0</td>\n",
       "      <td>8589</td>\n",
       "      <td>186137</td>\n",
       "      <td>194957</td>\n",
       "      <td>1992-02-21 00:00:00</td>\n",
       "      <td>185.42</td>\n",
       "      <td>157</td>\n",
       "      <td>0.000000</td>\n",
       "      <td>0.000000</td>\n",
       "    </tr>\n",
       "    <tr>\n",
       "      <th>3</th>\n",
       "      <td>/luke-shaw/profil/spieler/183288</td>\n",
       "      <td>Manchester United</td>\n",
       "      <td>Luke Shaw</td>\n",
       "      <td>Defender Left-Back</td>\n",
       "      <td>178.0</td>\n",
       "      <td>27.0</td>\n",
       "      <td>74</td>\n",
       "      <td>0.015374</td>\n",
       "      <td>0.169115</td>\n",
       "      <td>0.353604</td>\n",
       "      <td>...</td>\n",
       "      <td>13.0</td>\n",
       "      <td>8.0</td>\n",
       "      <td>6432</td>\n",
       "      <td>362694</td>\n",
       "      <td>205988</td>\n",
       "      <td>1995-07-12 00:00:00</td>\n",
       "      <td>185.42</td>\n",
       "      <td>165</td>\n",
       "      <td>0.000208</td>\n",
       "      <td>0.002285</td>\n",
       "    </tr>\n",
       "    <tr>\n",
       "      <th>4</th>\n",
       "      <td>/casemiro/profil/spieler/16306</td>\n",
       "      <td>Manchester United</td>\n",
       "      <td>Casemiro</td>\n",
       "      <td>midfield-DefensiveMidfield</td>\n",
       "      <td>185.0</td>\n",
       "      <td>31.0</td>\n",
       "      <td>101</td>\n",
       "      <td>0.090817</td>\n",
       "      <td>0.124874</td>\n",
       "      <td>0.329213</td>\n",
       "      <td>...</td>\n",
       "      <td>70.0</td>\n",
       "      <td>75.0</td>\n",
       "      <td>1596</td>\n",
       "      <td>208494</td>\n",
       "      <td>200145</td>\n",
       "      <td>1992-02-23 00:00:00</td>\n",
       "      <td>182.88</td>\n",
       "      <td>176</td>\n",
       "      <td>0.000899</td>\n",
       "      <td>0.001236</td>\n",
       "    </tr>\n",
       "  </tbody>\n",
       "</table>\n",
       "<p>5 rows × 72 columns</p>\n",
       "</div>"
      ],
      "text/plain": [
       "                                player               team   player_name  \\\n",
       "0  /jack-butland/profil/spieler/128899  Manchester United  Jack Butland   \n",
       "1     /tom-heaton/profil/spieler/34130  Manchester United    Tom Heaton   \n",
       "2    /phil-jones/profil/spieler/117996  Manchester United    Phil Jones   \n",
       "3     /luke-shaw/profil/spieler/183288  Manchester United     Luke Shaw   \n",
       "4       /casemiro/profil/spieler/16306  Manchester United      Casemiro   \n",
       "\n",
       "                     position  height_x   age  appearance     goals   assists  \\\n",
       "0                  Goalkeeper     196.0  30.0          15  0.000000  0.000000   \n",
       "1                  Goalkeeper     188.0  37.0           4  0.000000  0.000000   \n",
       "2        Defender Centre-Back     185.0  31.0           8  0.000000  0.000000   \n",
       "3          Defender Left-Back     178.0  27.0          74  0.015374  0.169115   \n",
       "4  midfield-DefensiveMidfield     185.0  31.0         101  0.090817  0.124874   \n",
       "\n",
       "   yellow cards  ...  gk_positioning  gk_reflexes     id  player_api_id  \\\n",
       "0      0.069018  ...            69.0         68.0   4502         288880   \n",
       "1      0.000000  ...            75.0         78.0  10377          24155   \n",
       "2      0.216346  ...            68.0         72.0   8589         186137   \n",
       "3      0.353604  ...            13.0          8.0   6432         362694   \n",
       "4      0.329213  ...            70.0         75.0   1596         208494   \n",
       "\n",
       "   player_fifa_api_id             birthday  height_y  weight  \\\n",
       "0              203042  1993-03-10 00:00:00    195.58     209   \n",
       "1              163264  1986-04-15 00:00:00    187.96     190   \n",
       "2              194957  1992-02-21 00:00:00    185.42     157   \n",
       "3              205988  1995-07-12 00:00:00    185.42     165   \n",
       "4              200145  1992-02-23 00:00:00    182.88     176   \n",
       "\n",
       "   goal_per_appearance  assist_per_appearance  \n",
       "0             0.000000               0.000000  \n",
       "1             0.000000               0.000000  \n",
       "2             0.000000               0.000000  \n",
       "3             0.000208               0.002285  \n",
       "4             0.000899               0.001236  \n",
       "\n",
       "[5 rows x 72 columns]"
      ]
     },
     "execution_count": 8,
     "metadata": {},
     "output_type": "execute_result"
    }
   ],
   "source": [
    "merged_df.head()"
   ]
  },
  {
   "cell_type": "code",
   "execution_count": 9,
   "id": "e1b61a64",
   "metadata": {},
   "outputs": [],
   "source": [
    "merged_df.to_csv(\"resources/test.csv\", index=False)"
   ]
  },
  {
   "cell_type": "code",
   "execution_count": 10,
   "id": "2d3b3161",
   "metadata": {},
   "outputs": [
    {
     "name": "stdout",
     "output_type": "stream",
     "text": [
      "Mean Squared Error: 0.6695191272128337\n",
      "Baseline MSE: 0.934561805631509\n"
     ]
    }
   ],
   "source": [
    "import pandas as pd\n",
    "import numpy as np\n",
    "from sklearn.model_selection import train_test_split\n",
    "from sklearn.linear_model import LinearRegression\n",
    "from sklearn.metrics import mean_squared_error\n",
    "from sklearn.dummy import DummyRegressor\n",
    "\n",
    "\n",
    "(X, y) = preprocess(merged_df, 'goals')\n",
    "\n",
    "X_train, X_test, y_train, y_test = train_test_split(X, y, test_size=0.2, random_state=42)\n",
    "\n",
    "\n",
    "model = LinearRegression()\n",
    "model.fit(X_train, y_train)\n",
    "\n",
    "y_pred = model.predict(X_test)\n",
    "mse = mean_squared_error(y_test, y_pred)\n",
    "print(f'Mean Squared Error: {mse}')\n",
    "\n",
    "#Baseline\n",
    "dummy = DummyRegressor(strategy='mean')\n",
    "dummy.fit(X_train, y_train)\n",
    "y_dummy_pred = dummy.predict(X_test)\n",
    "baseline_mse = mean_squared_error(y_test, y_dummy_pred)\n",
    "print(f'Baseline MSE: {baseline_mse}')\n",
    "\n"
   ]
  },
  {
   "cell_type": "code",
   "execution_count": 11,
   "id": "1230e6fe",
   "metadata": {},
   "outputs": [
    {
     "name": "stdout",
     "output_type": "stream",
     "text": [
      "count    1211.000000\n",
      "mean        0.005662\n",
      "std         1.001956\n",
      "min        -0.761815\n",
      "25%        -0.761815\n",
      "50%        -0.392546\n",
      "75%         0.384680\n",
      "max         9.695349\n",
      "Name: goals, dtype: float64\n"
     ]
    }
   ],
   "source": [
    "print(y.describe())"
   ]
  },
  {
   "cell_type": "code",
   "execution_count": 12,
   "id": "4b6bb3a4",
   "metadata": {},
   "outputs": [
    {
     "name": "stdout",
     "output_type": "stream",
     "text": [
      "RMSE: 0.028950828451701167\n"
     ]
    }
   ],
   "source": [
    "rmse = np.sqrt(0.0008381504680398298)\n",
    "print(\"RMSE:\", rmse)"
   ]
  },
  {
   "cell_type": "code",
   "execution_count": 13,
   "id": "97054454",
   "metadata": {
    "lines_to_next_cell": 2
   },
   "outputs": [
    {
     "name": "stdout",
     "output_type": "stream",
     "text": [
      "train R2 (CV) = 0.9850467657647355   valid R2 = 0.9006410241892511\n",
      "\n",
      "     train R2 = 0.98388293913725     test R2 = 0.9227570587164161\n",
      "mse = 0.07216240002290004\n",
      "mae = 0.10240794986736662\n"
     ]
    }
   ],
   "source": [
    "from sklearn.tree import plot_tree\n",
    "from sklearn.ensemble import RandomForestRegressor\n",
    "from sklearn.model_selection import GridSearchCV, cross_validate\n",
    "from sklearn.metrics import mean_absolute_error, mean_squared_error, r2_score\n",
    "\n",
    "B = np.arange(10,200,10)\n",
    "grid = {'n_estimators':B}\n",
    "\n",
    "rf = GridSearchCV(RandomForestRegressor(),param_grid=grid,return_train_score=True,n_jobs=-1)\n",
    "rf.fit(X_train,y_train)\n",
    "\n",
    "cv_results = cross_validate(rf,X_train,y_train,return_train_score=True)\n",
    "R2_trainCV = cv_results['train_score'].mean()\n",
    "R2_valid   = cv_results['test_score'].mean()\n",
    "predictions = rf.predict(X_test)\n",
    "\n",
    "mse = mean_squared_error(y_test, predictions)\n",
    "mae = mean_absolute_error(y_test, predictions)\n",
    "\n",
    "print('train R2 (CV) =',R2_trainCV,'  valid R2 =',R2_valid)\n",
    "print()\n",
    "R2_train = rf.score(X_train,y_train)\n",
    "R2_test  = rf.score(X_test,y_test)\n",
    "print('     train R2 =',R2_train,'    test R2 =',R2_test)\n",
    "print('mse = ' + str(mse))\n",
    "print('mae = ' + str(mae))"
   ]
  },
  {
   "cell_type": "code",
   "execution_count": null,
   "id": "cfd535f9-b80b-4e32-9f27-0ed7c9731fa3",
   "metadata": {},
   "outputs": [],
   "source": []
  }
 ],
 "metadata": {
  "kernelspec": {
   "display_name": "Python 3 (ipykernel)",
   "language": "python",
   "name": "python3"
  },
  "language_info": {
   "codemirror_mode": {
    "name": "ipython",
    "version": 3
   },
   "file_extension": ".py",
   "mimetype": "text/x-python",
   "name": "python",
   "nbconvert_exporter": "python",
   "pygments_lexer": "ipython3",
   "version": "3.13.3"
  }
 },
 "nbformat": 4,
 "nbformat_minor": 5
}
