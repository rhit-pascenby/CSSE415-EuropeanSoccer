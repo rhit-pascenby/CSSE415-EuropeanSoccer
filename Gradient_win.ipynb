{
 "cells": [
  {
   "cell_type": "code",
   "execution_count": 1,
   "id": "508b99e3-a536-4fcc-9a15-2150831c746a",
   "metadata": {},
   "outputs": [],
   "source": [
    "import pandas as pd\n",
    "import numpy as np\n",
    "from sklearn.model_selection import train_test_split, GridSearchCV\n",
    "from sklearn.linear_model import LinearRegression, Lasso\n",
    "from sklearn.dummy import DummyRegressor\n",
    "from sklearn.metrics import mean_absolute_error, mean_squared_error, r2_score\n",
    "from sklearn.preprocessing import StandardScaler\n"
   ]
  },
  {
   "cell_type": "code",
   "execution_count": 2,
   "id": "bf1cdade-89fb-410a-a7df-01576c144323",
   "metadata": {},
   "outputs": [],
   "source": [
    "df = pd.read_csv('resources/final_data_wins.csv')"
   ]
  },
  {
   "cell_type": "code",
   "execution_count": 3,
   "id": "0cd7edff-4010-4ccb-945a-64fa4ea2865c",
   "metadata": {},
   "outputs": [],
   "source": [
    "X = pd.get_dummies(df.drop('wins', axis=1), drop_first=True)\n",
    "X = X.dropna()\n",
    "\n",
    "y = df['wins']\n",
    "y = y[X.index]\n",
    "\n",
    "\n",
    "# Remove outliers from y using IQR method\n",
    "Q1 = y.quantile(0.25)\n",
    "Q3 = y.quantile(0.75)\n",
    "IQR = Q3 - Q1\n",
    "lower_bound = Q1 - 1.5 * IQR\n",
    "upper_bound = Q3 + 1.5 * IQR\n",
    "\n",
    "# Filter out outliers\n",
    "non_outliers = (y >= lower_bound) & (y <= upper_bound)\n",
    "X = X[non_outliers]\n",
    "y = y[non_outliers]\n",
    "\n",
    "\n",
    "X_train, X_test, y_train, y_test = train_test_split(X, y, test_size=0.2, random_state=42)"
   ]
  },
  {
   "cell_type": "code",
   "execution_count": 4,
   "id": "6a90e836-6081-4a9f-b78c-704fe4a02920",
   "metadata": {},
   "outputs": [
    {
     "name": "stdout",
     "output_type": "stream",
     "text": [
      "Gradient Boosting Regression Performance (After Hyperparameter Tuning):\n",
      "Best Parameters: {'learning_rate': 0.01, 'max_depth': 3, 'n_estimators': 100}\n",
      "R²: 1.00\n",
      "MSE: 0.00\n",
      "MAE: 0.00\n",
      "Best GBR Prediction: 0.00, Actual: 0.00\n",
      "Worst GBR Prediction: 0.00, Actual: 0.00\n"
     ]
    }
   ],
   "source": [
    "from sklearn.ensemble import GradientBoostingRegressor\n",
    "from sklearn.model_selection import GridSearchCV\n",
    "from sklearn.metrics import mean_squared_error, r2_score, mean_absolute_error\n",
    "\n",
    "\n",
    "param_grid = {\n",
    "    'n_estimators': [100, 200],\n",
    "    'learning_rate': [0.01, 0.1, 0.2],\n",
    "    'max_depth': [3, 4, 5]\n",
    "}\n",
    "\n",
    "# Initialize the model\n",
    "gbr_model = GradientBoostingRegressor(random_state=42)\n",
    "\n",
    "\n",
    "grid_search_gbr = GridSearchCV(gbr_model, param_grid, cv=5, n_jobs=-1, scoring='neg_mean_squared_error')\n",
    "grid_search_gbr.fit(X_train, y_train)\n",
    "\n",
    "\n",
    "best_gbr_params = grid_search_gbr.best_params_\n",
    "best_gbr_model = grid_search_gbr.best_estimator_\n",
    "gbr_predictions = best_gbr_model.predict(X_test)\n",
    "\n",
    "\n",
    "gbr_mse = mean_squared_error(y_test, gbr_predictions)\n",
    "gbr_r2 = r2_score(y_test, gbr_predictions)\n",
    "gbr_mae = mean_absolute_error(y_test, gbr_predictions)\n",
    "\n",
    "\n",
    "gbr_errors = abs(gbr_predictions - y_test.values)\n",
    "best_gbr_idx = gbr_errors.argmin()\n",
    "worst_gbr_idx = gbr_errors.argmax()\n",
    "\n",
    "best_gbr_prediction = gbr_predictions[best_gbr_idx]\n",
    "worst_gbr_prediction = gbr_predictions[worst_gbr_idx]\n",
    "best_gbr_actual = y_test.iloc[best_gbr_idx]\n",
    "worst_gbr_actual = y_test.iloc[worst_gbr_idx]\n",
    "\n",
    "\n",
    "print(f\"Gradient Boosting Regression Performance (After Hyperparameter Tuning):\")\n",
    "print(f\"Best Parameters: {best_gbr_params}\")\n",
    "print(f\"R²: {gbr_r2:.2f}\")\n",
    "print(f\"MSE: {gbr_mse:.2f}\")\n",
    "print(f\"MAE: {gbr_mae:.2f}\")\n",
    "print(f\"Best GBR Prediction: {best_gbr_prediction:.2f}, Actual: {best_gbr_actual:.2f}\")\n",
    "print(f\"Worst GBR Prediction: {worst_gbr_prediction:.2f}, Actual: {worst_gbr_actual:.2f}\")"
   ]
  },
  {
   "cell_type": "code",
   "execution_count": 5,
   "id": "35213a1c-69be-4dc0-a20a-ded8624399e3",
   "metadata": {},
   "outputs": [
    {
     "name": "stdout",
     "output_type": "stream",
     "text": [
      "Cross-validated R² scores: [1. 1. 1. 1. 1.]\n",
      "Mean CV R²: 1.00\n"
     ]
    }
   ],
   "source": [
    "from sklearn.model_selection import cross_val_score\n",
    "#Check if its overfitting, if CV scores are much lower than test R², this model is likely overfitting to the training set. (its not)\n",
    "cv_scores = cross_val_score(best_gbr_model, X_train, y_train, cv=5, scoring='r2')\n",
    "print(f\"Cross-validated R² scores: {cv_scores}\")\n",
    "print(f\"Mean CV R²: {cv_scores.mean():.2f}\")"
   ]
  },
  {
   "cell_type": "code",
   "execution_count": null,
   "id": "f2f56ebb-af9f-4483-baff-661ee3260c03",
   "metadata": {},
   "outputs": [],
   "source": []
  },
  {
   "cell_type": "code",
   "execution_count": null,
   "id": "516595c2-a5b0-4a8d-9510-b70838bebe4c",
   "metadata": {},
   "outputs": [],
   "source": []
  }
 ],
 "metadata": {
  "kernelspec": {
   "display_name": "Python 3 (ipykernel)",
   "language": "python",
   "name": "python3"
  },
  "language_info": {
   "codemirror_mode": {
    "name": "ipython",
    "version": 3
   },
   "file_extension": ".py",
   "mimetype": "text/x-python",
   "name": "python",
   "nbconvert_exporter": "python",
   "pygments_lexer": "ipython3",
   "version": "3.11.11"
  }
 },
 "nbformat": 4,
 "nbformat_minor": 5
}
