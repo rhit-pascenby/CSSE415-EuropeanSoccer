{
 "cells": [
  {
   "cell_type": "code",
   "execution_count": 12,
   "id": "c6250632-33e8-46dd-907b-8acb8d2b9e9b",
   "metadata": {},
   "outputs": [],
   "source": [
    "import pandas as pd\n",
    "import numpy as np\n",
    "from sklearn.model_selection import train_test_split, GridSearchCV\n",
    "from sklearn.linear_model import LinearRegression, Lasso\n",
    "from sklearn.dummy import DummyRegressor\n",
    "from sklearn.metrics import mean_absolute_error, mean_squared_error, r2_score\n",
    "from sklearn.preprocessing import StandardScaler\n"
   ]
  },
  {
   "cell_type": "code",
   "execution_count": 20,
   "id": "9ddded99-de68-45ae-97a0-b1e8aea126af",
   "metadata": {},
   "outputs": [],
   "source": [
    "df = pd.read_csv('resources/2014_player_data_standardized.csv')\n",
    "df = df.drop('Unnamed: 0', axis=1)"
   ]
  },
  {
   "cell_type": "code",
   "execution_count": 21,
   "id": "3ca3cb39-b1d5-49eb-99b0-f2c9c5088ba5",
   "metadata": {},
   "outputs": [],
   "source": [
    "X = pd.get_dummies(df.drop('player_performance_valuation_standardized', axis=1), drop_first=True)\n",
    "X = X.dropna()\n",
    "\n",
    "y = df['player_performance_valuation_standardized']\n",
    "y = y[X.index]\n",
    "\n",
    "\n",
    "# Remove outliers from y using IQR method\n",
    "Q1 = y.quantile(0.25)\n",
    "Q3 = y.quantile(0.75)\n",
    "IQR = Q3 - Q1\n",
    "lower_bound = Q1 - 1.5 * IQR\n",
    "upper_bound = Q3 + 1.5 * IQR\n",
    "\n",
    "# Filter out outliers\n",
    "non_outliers = (y >= lower_bound) & (y <= upper_bound)\n",
    "X = X[non_outliers]\n",
    "y = y[non_outliers]\n",
    "\n",
    "\n",
    "X_train, X_test, y_train, y_test = train_test_split(X, y, test_size=0.2, random_state=42)"
   ]
  },
  {
   "cell_type": "code",
   "execution_count": 22,
   "id": "c4ac067d-14ee-4c49-b6f6-6089bf194c74",
   "metadata": {},
   "outputs": [
    {
     "name": "stderr",
     "output_type": "stream",
     "text": [
      "/opt/miniforge3/lib/python3.11/site-packages/sklearn/linear_model/_coordinate_descent.py:695: ConvergenceWarning: Objective did not converge. You might want to increase the number of iterations, check the scale of the features or consider increasing regularisation. Duality gap: 5.580e+00, tolerance: 1.749e-03\n",
      "  model = cd_fast.enet_coordinate_descent(\n"
     ]
    },
    {
     "name": "stdout",
     "output_type": "stream",
     "text": [
      "Lasso Regression Performance (After Hyperparameter Tuning):\n",
      "Best Alpha: 0.1\n",
      "R²: 0.06\n",
      "MSE: 0.06\n",
      "MAE: 0.18\n",
      "Best Lasso Prediction: -0.30, Actual: -0.31\n",
      "Worst Lasso Prediction: -0.25, Actual: 0.57\n"
     ]
    }
   ],
   "source": [
    "param_grid = {\n",
    "    'alpha': [0.001, 0.01, 0.1, 1, 10, 100],\n",
    "}\n",
    "lasso_model = Lasso()\n",
    "grid_search_lasso = GridSearchCV(lasso_model, param_grid, cv=5, n_jobs=-1, scoring='neg_mean_squared_error')\n",
    "grid_search_lasso.fit(X_train, y_train)\n",
    "\n",
    "best_lasso_params = grid_search_lasso.best_params_\n",
    "best_lasso_model = grid_search_lasso.best_estimator_\n",
    "lasso_predictions = best_lasso_model.predict(X_test)\n",
    "\n",
    "# Calculate performance metrics\n",
    "lasso_mse = mean_squared_error(y_test, lasso_predictions)\n",
    "lasso_r2 = r2_score(y_test, lasso_predictions)\n",
    "lasso_mae = mean_absolute_error(y_test, lasso_predictions)\n",
    "\n",
    "# Find best and worst predictions\n",
    "lasso_errors = abs(lasso_predictions - y_test)\n",
    "best_lasso_idx = lasso_errors.argmin()  # index of smallest error (best prediction)\n",
    "worst_lasso_idx = lasso_errors.argmax()  # index of largest error (worst prediction)\n",
    "\n",
    "best_lasso_prediction = lasso_predictions[best_lasso_idx]\n",
    "worst_lasso_prediction = lasso_predictions[worst_lasso_idx]\n",
    "best_lasso_actual = y_test.iloc[best_lasso_idx]\n",
    "worst_lasso_actual = y_test.iloc[worst_lasso_idx]\n",
    "\n",
    "# Print results for Lasso\n",
    "print(f\"Lasso Regression Performance (After Hyperparameter Tuning):\")\n",
    "print(f\"Best Alpha: {best_lasso_params['alpha']}\")\n",
    "print(f\"R²: {lasso_r2:.2f}\")\n",
    "print(f\"MSE: {lasso_mse:.2f}\")\n",
    "print(f\"MAE: {lasso_mae:.2f}\")\n",
    "print(f\"Best Lasso Prediction: {best_lasso_prediction:.2f}, Actual: {best_lasso_actual:.2f}\")\n",
    "print(f\"Worst Lasso Prediction: {worst_lasso_prediction:.2f}, Actual: {worst_lasso_actual:.2f}\")"
   ]
  },
  {
   "cell_type": "code",
   "execution_count": 19,
   "id": "83317b56-5e09-4b09-a7e5-066e50d98cd3",
   "metadata": {},
   "outputs": [
    {
     "name": "stdout",
     "output_type": "stream",
     "text": [
      "Features used by Lasso regression:\n",
      "['Unnamed: 0', 'minutes_played', 'key_passes', 'market_value_in_eur', 'age_in_months_2015', 'team_rank']\n",
      "\n",
      "Features excluded (coefficient = 0):\n",
      "['goals', 'npg', 'assists', 'xG', 'xA', 'npxG', 'xG90', 'xA90', 'npxG90', 'shots', 'yellow_cards', 'red_cards', 'xGBuildup', 'xGChain', 'height_in_cm', 'points_per_game', 'player_name_Abdoulay Konko', 'player_name_Abdoulaye Keita', 'player_name_Accursio Bentivegna', 'player_name_Achraf Lazaar', 'player_name_Adam Hlousek', 'player_name_Adam Johnson', 'player_name_Adam Lallana', 'player_name_Adlène Guédioura', 'player_name_Adnan Januzaj', 'player_name_Adrian Mariappa', 'player_name_Adrián Embarba', 'player_name_Adrián Ramos', 'player_name_Alan Hutton', 'player_name_Alberto Gilardino', 'player_name_Alberto Grassi', 'player_name_Alberto Moreno', 'player_name_Albin Ekdal', 'player_name_Aleksandar Ignjovski', 'player_name_Aleksandar Kolarov', 'player_name_Alessandro Diamanti', 'player_name_Alessandro Florenzi', 'player_name_Alessandro Gazzi', 'player_name_Alessandro Longhi', 'player_name_Alex McCarthy', 'player_name_Alex Oxlade-Chamberlain', 'player_name_Alexander Djiku', 'player_name_Alexander Farnerud', 'player_name_Alexander Meier', 'player_name_Alexandru Maxim', 'player_name_Alexis Sánchez', 'player_name_Alfred Duncan', 'player_name_Allan', 'player_name_Aly Cissokho', 'player_name_Ander Herrera', 'player_name_Andrea Barzagli', 'player_name_Andrea Belotti', 'player_name_Andrea Coda', 'player_name_Andrea Consigli', 'player_name_Andrea Costa', 'player_name_Andrea Lazzari', 'player_name_Andrea Masiello', 'player_name_Andreas Pereira', 'player_name_Angelo Palombo', 'player_name_Antonio Amaya', 'player_name_Antonio Candreva', 'player_name_Antonio Cassano', 'player_name_Antonio Di Natale', 'player_name_Antonio Mirante', 'player_name_Antonio Rüdiger', 'player_name_Antonio Valencia', 'player_name_Aritz Elustondo', 'player_name_Armando Izzo', 'player_name_Arouna Koné', 'player_name_Artjoms Rudnevs', 'player_name_Artur Sobiech', 'player_name_Ashley Westwood', 'player_name_Ashley Young', 'player_name_Ayoze Pérez', 'player_name_Bacary Sagna', 'player_name_Bastian Oczipka', 'player_name_Ben Foster', 'player_name_Billy Jones', 'player_name_Boaz Myhill', 'player_name_Borja Valero', 'player_name_Boukary Dramé', 'player_name_Brad Guzan', 'player_name_Brandão', 'player_name_Branislav Ivanovic', 'player_name_Brede Hangeland', 'player_name_Brendan Galloway', 'player_name_Bruno Fernandes', 'player_name_Bruno Peres', 'player_name_Bryan Oviedo', 'player_name_Callum McManaman', 'player_name_Calum Chambers', 'player_name_Carles Gil', 'player_name_Carlos Carbonero', 'player_name_Carlos Gruezo', 'player_name_Carlos Martínez', 'player_name_Carlos Sánchez', 'player_name_Carlos Vela', 'player_name_Carlos Zambrano', 'player_name_Cesare Bovo', 'player_name_Cesc Fàbregas', 'player_name_Ceyhun Gülselam', 'player_name_Charlie Austin', 'player_name_Chicharito', 'player_name_Chris Brunt', 'player_name_Chris Smalling', 'player_name_Christian Benteke', 'player_name_Christian Gentner', 'player_name_Christian Maggio', 'player_name_Christian Schulz', 'player_name_Christopher Maboulou', 'player_name_Ciaran Clark', 'player_name_Ciprian Tatarusanu', 'player_name_Claudio Marchisio', 'player_name_Claudio Yacob', 'player_name_Cléber', 'player_name_Connor Wickham', 'player_name_Constant Djakpa', 'player_name_Costel Pantilimon', 'player_name_Craig Dawson', 'player_name_Craig Gardner', 'player_name_Cristian Gamboa', 'player_name_Cristian Molinaro', 'player_name_Cristian Raimondi', 'player_name_Cyril Théréau', 'player_name_César Azpilicueta', 'player_name_Daley Blind', 'player_name_Damien Delaney', 'player_name_Daniel Didavi', 'player_name_Daniel Ginczek', 'player_name_Daniel Schwaab', 'player_name_Daniel Sturridge', 'player_name_Daniele Baselli', 'player_name_Daniele Croce', 'player_name_Daniele De Rossi', 'player_name_Daniele Gastaldello', 'player_name_Daniele Padelli', 'player_name_Daniele Rugani', 'player_name_Daniele Verde', 'player_name_Danilo Avelar', 'player_name_Danilo Cataldi', 'player_name_Danny Graham', 'player_name_Danny Ings', 'player_name_Darron Gibson', 'player_name_Daryl Janmaat', 'player_name_David Kinsombi', 'player_name_David Ospina', 'player_name_David Silva', 'player_name_David Zurutuza', 'player_name_David de Gea', 'player_name_Davide Astori', 'player_name_Davide Bassi', 'player_name_Davide Biondini', 'player_name_Davide Santon', 'player_name_Davide Zappacosta', 'player_name_Dejan Lovren', 'player_name_Dennis Diekmeier', 'player_name_Diego Costa', 'player_name_Djamel Mesbah', 'player_name_Dodô', 'player_name_Domenico Berardi', 'player_name_Dries Mertens', 'player_name_Dusan Basta', 'player_name_Duván Zapata', 'player_name_Dwight Gayle', 'player_name_Eden Hazard', 'player_name_Edenilson', 'player_name_Edgar Prib', 'player_name_Edson Braafheid', 'player_name_Eliaquim Mangala', 'player_name_Elseid Hysaj', 'player_name_Emanuele Giaccherini', 'player_name_Emanuele Terranova', 'player_name_Emerson', 'player_name_Emiliano Insúa', 'player_name_Emiliano Moretti', 'player_name_Emiliano Viviano', 'player_name_Emmanuel Badu', 'player_name_Emmanuel Rivière', 'player_name_Emre Can', 'player_name_Enzo Maresca', 'player_name_Erik Durm', 'player_name_Esteban Granero', 'player_name_Etrit Berisha', 'player_name_Eugenio Lamanna', 'player_name_Fabian Delph', 'player_name_Fabio Borini', 'player_name_Fabricio Coloccini', 'player_name_Facundo Roncaglia', 'player_name_Faouzi Ghoulam', 'player_name_Federico Barba', 'player_name_Federico Bernardeschi', 'player_name_Federico Bonazzoli', 'player_name_Federico Marchetti', 'player_name_Federico Peluso', 'player_name_Felipe', 'player_name_Felipe Anderson', 'player_name_Fernandinho', 'player_name_Fernando', 'player_name_Filip Djordjevic', 'player_name_Florian Klein', 'player_name_Florian Marange', 'player_name_Floyd Ayité', 'player_name_Fraizer Campbell', 'player_name_Francesco Acerbi', 'player_name_Francesco Lodi', 'player_name_Francesco Magnanelli', 'player_name_Francesco Totti', 'player_name_Francis Coquelin', 'player_name_Franco Brienza', 'player_name_Franco Signorelli', 'player_name_Franco Vázquez', 'player_name_Fraser Forster', 'player_name_Fredy Guarín', 'player_name_Gabriel', 'player_name_Gabriel Agbonlahor', 'player_name_Gabriel Obertan', 'player_name_Gareth Barry', 'player_name_Gareth McAuley', 'player_name_Gary Cahill', 'player_name_Gary Medel', 'player_name_Gastón Silva', 'player_name_Gaël Clichy', 'player_name_Geoffroy Serey Dié', 'player_name_Georg Niedermeier', 'player_name_Gervinho', 'player_name_Gerónimo Rulli', 'player_name_Gianluigi Buffon', 'player_name_Gianpaolo Bellini', 'player_name_Gilles Cioni', 'player_name_Giorgio Chiellini', 'player_name_Giovanni Marchese', 'player_name_Giovanni Pasquale', 'player_name_Giulio Migliaccio', 'player_name_Giuseppe Panico', 'player_name_Giuseppe Vives', 'player_name_Godfred Donsah', 'player_name_Gojko Kacar', 'player_name_Gonzalo Higuaín', 'player_name_Gonzalo Rodríguez', 'player_name_Gotoku Sakai', 'player_name_Graziano Pellè', 'player_name_Guglielmo Stendardo', 'player_name_Guilherme', 'player_name_Haris Seferovic', 'player_name_Harrison Reed', 'player_name_Henrikh Mkhitaryan', 'player_name_Hiroki Sakai', 'player_name_Hiroshi Kiyotake', 'player_name_Hugo Almeida', 'player_name_Héctor Bellerín', 'player_name_Iago Falque', 'player_name_Ibrahima Mbaye', 'player_name_Igor Bubnjic', 'player_name_Imanol Agirretxe', 'player_name_Ivan Strinic', 'player_name_Ivaylo Chochev', 'player_name_Ivo Ilicevic', 'player_name_Iván Piris', 'player_name_Iñigo Martínez', 'player_name_Jack Colback', 'player_name_Jack Grealish', 'player_name_Jack Rodwell', 'player_name_Jack Wilshere', 'player_name_Jakub Blaszczykowski', 'player_name_James McArthur', 'player_name_James McCarthy', 'player_name_James Milner', 'player_name_James Morrison', 'player_name_James Ward-Prowse', 'player_name_James Wilson', 'player_name_Jaroslav Drobny', 'player_name_Jasmin Kurtic', 'player_name_Jason Puncheon', 'player_name_Jean-Louis Leca', 'player_name_Jermain Defoe', 'player_name_Jesse Lingard', 'player_name_Jesús Navas', 'player_name_Joaquín Correa', 'player_name_Joe Allen', 'player_name_Joe Hart', 'player_name_Joe Ledley', 'player_name_Joel Campbell', 'player_name_Joel Obi', 'player_name_Joel Robles', 'player_name_Joel Ward', 'player_name_Johan Djourou', 'player_name_Johannes Flum', 'player_name_John Stones', 'player_name_John Terry', 'player_name_Jonas Olsson', 'player_name_Jonathan Biabiany', 'player_name_Jonathan Williams', 'player_name_Jonathan de Guzmán', 'player_name_Jonny Evans', 'player_name_Jordan Henderson', 'player_name_Jordi Gómez', 'player_name_Jordon Ibe', 'player_name_Jores Okore', 'player_name_Jorginho', 'player_name_Josef Martínez', 'player_name_Josip Ilicic', 'player_name_José Callejón', 'player_name_José Fonte', 'player_name_Juan Cuadrado', 'player_name_Juan Iturbe', 'player_name_Juan Jesus', 'player_name_Juan Mata', 'player_name_Juan Pablo Carrizo', 'player_name_Julian Palmieri', 'player_name_Julien Romain', 'player_name_Kalidou Koulibaly', 'player_name_Kamil Glik', 'player_name_Kelvin Davis', 'player_name_Kenan Karaman', 'player_name_Kevin Großkreutz', 'player_name_Kevin Mirallas', 'player_name_Kevin Strootman', 'player_name_Khouma Babacar', 'player_name_Kieran Gibbs', 'player_name_Kieran Richardson', 'player_name_Kolo Touré', 'player_name_Kurt Zouma', 'player_name_Kwadwo Asamoah', 'player_name_Laurent Koscielny', 'player_name_Leandro Bacuna', 'player_name_Leandro Castán', 'player_name_Leandro Paredes', 'player_name_Lee Cattermole', 'player_name_Leighton Baines', 'player_name_Leon Andreasen', 'player_name_Leon Osman', 'player_name_Leonardo Bonucci', 'player_name_Levan Mchedlidze', 'player_name_Lorenzo Crisetig', 'player_name_Lorenzo De Silvestri', 'player_name_Lorenzo Insigne', 'player_name_Lorenzo Pellegrini', 'player_name_Lorenzo Tonelli', 'player_name_Luca Antei', 'player_name_Luca Cigarini', 'player_name_Luca Rizzo', 'player_name_Luca Rossettini', 'player_name_Lucas Biglia', 'player_name_Lucas Leiva', 'player_name_Luigi Giorgi', 'player_name_Lukasz Piszczek', 'player_name_Lukasz Skorupski', 'player_name_Luke Shaw', 'player_name_Lyes Houri', 'player_name_Maicon', 'player_name_Makoto Hasebe', 'player_name_Mamadou Sakho', 'player_name_Manucho', 'player_name_Manuel Pasqual', 'player_name_Manuel Pucciarelli', 'player_name_Manuel Schmiedebach', 'player_name_Marc Stendera', 'player_name_Marcel Schmelzer', 'player_name_Marcello Gazzola', 'player_name_Marcelo Brozovic', 'player_name_Marcelo Estigarribia', 'player_name_Marco Benassi', 'player_name_Marco Parolo', 'player_name_Marco Reus', 'player_name_Marco Russ', 'player_name_Marco Sportiello', 'player_name_Marcos Alonso', 'player_name_Marcos Rojo', 'player_name_Marek Hamsik', 'player_name_Markel Bergara', 'player_name_Marouane Chamakh', 'player_name_Marouane Fellaini', 'player_name_Martin Harnik', 'player_name_Martin Kelly', 'player_name_Martin Skrtel', 'player_name_Martín Cáceres', 'player_name_Martín Demichelis', 'player_name_Massadio Haidara', 'player_name_Massimo Maccarone', 'player_name_Mathieu Debuchy', 'player_name_Mathieu Flamini', 'player_name_Mathieu Peybernes', 'player_name_Mato Jajalo', 'player_name_Mats Hummels', 'player_name_Matt Targett', 'player_name_Matteo Brighi', 'player_name_Matteo Darmian', 'player_name_Matthias Ginter', 'player_name_Matthias Ostrzolek', 'player_name_Mattia Cassani', 'player_name_Mattia Perin', 'player_name_Matías Fernández', 'player_name_Matías Silvestre', 'player_name_Matías Vecino', 'player_name_Mauricio Isla', 'player_name_Maurizio Domizzi', 'player_name_Mauro Icardi', 'player_name_Maya Yoshida', 'player_name_Mesut Özil', 'player_name_Micah Richards', 'player_name_Michael Carrick', 'player_name_Michel Morganella', 'player_name_Miguel Britos', 'player_name_Miiko Albornoz', 'player_name_Mikel Arteta', 'player_name_Mikel González', 'player_name_Milan Badelj', 'player_name_Mile Jedinak', 'player_name_Mirko Valdifiori', 'player_name_Miroslav Klose', 'player_name_Mitchell Langerak', 'player_name_Mohamed Salah', 'player_name_Molla Wagué', 'player_name_Morgan De Sanctis', 'player_name_Morgan Schneiderlin', 'player_name_Moritz Leitner', 'player_name_Moussa Sissoko', 'player_name_Muhamed Besic', 'player_name_Mário Rui', 'player_name_Nacho Monreal', 'player_name_Nathan Aké', 'player_name_Nathaniel Chalobah', 'player_name_Nathaniel Clyne', 'player_name_Nemanja Matic', 'player_name_Nenad Krsticic', 'player_name_Neto', 'player_name_Neven Subotic', 'player_name_Nicola Leali', 'player_name_Nicola Sansone', 'player_name_Nicolai Müller', 'player_name_Nicolò Cherubin', 'player_name_Nuri Sahin', 'player_name_Ogenyi Onazi', 'player_name_Olivier Giroud', 'player_name_Omar El Kaddouri', 'player_name_Orestis Karnezis', 'player_name_Oriol Romeu', 'player_name_Oscar', 'player_name_Pablo Zabaleta', 'player_name_Paddy McNair', 'player_name_Paolo Cannavaro', 'player_name_Pape Souaré', 'player_name_Patrice Evra', 'player_name_Patrick van Aanholt', 'player_name_Paul Dummett', 'player_name_Paul Pogba', 'player_name_Paulo Dybala', 'player_name_Paulo Gazzaniga', 'player_name_Per Mertesacker', 'player_name_Petr Cech', 'player_name_Phil Jagielka', 'player_name_Phil Jones', 'player_name_Philippe Coutinho', 'player_name_Pierre-Emerick Aubameyang', 'player_name_Pierre-Michel Lasogga', 'player_name_Pontus Jansson', 'player_name_Quini', 'player_name_Radja Nainggolan', 'player_name_Raheem Sterling', 'player_name_Raman Chibsah', 'player_name_Ramires', 'player_name_Raúl Albiol', 'player_name_Raúl Baena', 'player_name_René Adler', 'player_name_Ricardo Álvarez', 'player_name_Rickie Lambert', 'player_name_Roberto Pereyra', 'player_name_Roberto Soriano', 'player_name_Roberto Trashorras', 'player_name_Roberto Vitiello', 'player_name_Robin Quaison', 'player_name_Rodrigo Palacio', 'player_name_Rolando Aarons', 'player_name_Roman Weidenfeller', 'player_name_Romelu Lukaku', 'player_name_Ron-Robert Zieler', 'player_name_Ross Barkley', 'player_name_Ruben Loftus-Cheek', 'player_name_Rubén Pardo', 'player_name_Rushian Hepburn-Murphy', 'player_name_Ryan Bertrand', 'player_name_Sadio Mané', 'player_name_Saido Berahino', 'player_name_Salif Sané', 'player_name_Salvador Ichazo', 'player_name_Samir Handanovic', 'player_name_Samir Nasri', 'player_name_Samuele Longo', 'player_name_Sandro', 'player_name_Santiago Gentiletti', 'player_name_Saphir Taïder', 'player_name_Scott Dann', 'player_name_Sebastian Larsson', 'player_name_Sebastien De Maio', 'player_name_Sebastián Coates', 'player_name_Senad Lulic', 'player_name_Sergio Agüero', 'player_name_Sergio Canales', 'player_name_Sergio Romero', 'player_name_Seydou Doumbia', 'player_name_Seydou Keita', 'player_name_Shane Long', 'player_name_Shinji Kagawa', 'player_name_Siem de Jong', 'player_name_Silvan Widmer', 'player_name_Sime Vrsaljko', 'player_name_Simon Mignolet', 'player_name_Simone Missiroli', 'player_name_Simone Padoin', 'player_name_Simone Zaza', 'player_name_Sinisa Andjelkovic', 'player_name_Slobodan Medojevic', 'player_name_Sonny Kittel', 'player_name_Stefan Aigner', 'player_name_Stefan Radu', 'player_name_Stefan de Vrij', 'player_name_Stefano Mauri', 'player_name_Stefano Sorrentino', 'player_name_Stephan Lichtsteiner', 'player_name_Stevan Jovetic', 'player_name_Steven Davis', 'player_name_Steven Fletcher', 'player_name_Steven Pienaar', 'player_name_Steven Taylor', 'player_name_Stipe Perica', 'player_name_Sven Bender', 'player_name_Sylvain Distin', 'player_name_Sébastien Pocognoli', 'player_name_Sébastien Squillaci', 'player_name_Theo Walcott', 'player_name_Thibaut Courtois', 'player_name_Thomas Heurtaux', 'player_name_Tim Howard', 'player_name_Tim Krul', 'player_name_Timo Baumgartl', 'player_name_Timo Werner', 'player_name_Timothy Chandler', 'player_name_Tito', 'player_name_Tomás Rincón', 'player_name_Tony Hibbert', 'player_name_Tyias Browning', 'player_name_Vaclav Kadlec', 'player_name_Valon Behrami', 'player_name_Victor Anichebe', 'player_name_Victor Wanyama', 'player_name_Vincent Kompany', 'player_name_Vincent Laurini', 'player_name_Vito Mannone', 'player_name_Vurnon Anita', 'player_name_Wayne Hennessey', 'player_name_Wayne Rooney', 'player_name_Wes Brown', 'player_name_Wilfried Zaha', 'player_name_Willian', 'player_name_Willy Caballero', 'player_name_Wojciech Szczesny', 'player_name_Xabi Prieto', 'player_name_Yannick Bolasie', 'player_name_Yannick Cahuzac', 'player_name_Yaya Touré', 'player_name_Yoan Gouffran', 'player_name_Yuto Nagatomo', 'player_name_Zdravko Kuzmanovic', 'player_name_Zeljko Brkic', 'player_name_Zoltán Stieber', 'player_name_Zé Castro', 'player_name_Álvaro Morata', 'position_x_D F M S', 'position_x_D M', 'position_x_D M S', 'position_x_D S', 'position_x_F', 'position_x_F M', 'position_x_F M S', 'position_x_F S', 'position_x_GK', 'position_x_GK S', 'position_x_M', 'position_x_M S', 'position_x_S']\n"
     ]
    }
   ],
   "source": [
    "# Get feature names if using a DataFrame\n",
    "feature_names = X_train.columns  # Assuming X_train is a DataFrame\n",
    "\n",
    "# Get the coefficients from the best Lasso model\n",
    "lasso_coefficients = best_lasso_model.coef_\n",
    "\n",
    "# Identify features with non-zero coefficients\n",
    "used_features = feature_names[lasso_coefficients != 0]\n",
    "excluded_features = feature_names[lasso_coefficients == 0]\n",
    "\n",
    "print(\"Features used by Lasso regression:\")\n",
    "print(used_features.tolist())\n",
    "\n",
    "print(\"\\nFeatures excluded (coefficient = 0):\")\n",
    "print(excluded_features.tolist())"
   ]
  },
  {
   "cell_type": "code",
   "execution_count": null,
   "id": "dc262921-b307-4875-9bf1-dbcd98d2ab5a",
   "metadata": {},
   "outputs": [],
   "source": []
  },
  {
   "cell_type": "code",
   "execution_count": null,
   "id": "6b7ef5ac-3bf7-4c26-987a-f16d55a88c73",
   "metadata": {},
   "outputs": [],
   "source": []
  },
  {
   "cell_type": "code",
   "execution_count": null,
   "id": "bde5fe76-3caf-4a46-9d24-ac018ea7db2a",
   "metadata": {},
   "outputs": [],
   "source": []
  },
  {
   "cell_type": "code",
   "execution_count": null,
   "id": "b297ccd1-3aa8-48e2-9dae-2c6b6da3c73b",
   "metadata": {},
   "outputs": [],
   "source": []
  }
 ],
 "metadata": {
  "kernelspec": {
   "display_name": "Python 3 (ipykernel)",
   "language": "python",
   "name": "python3"
  },
  "language_info": {
   "codemirror_mode": {
    "name": "ipython",
    "version": 3
   },
   "file_extension": ".py",
   "mimetype": "text/x-python",
   "name": "python",
   "nbconvert_exporter": "python",
   "pygments_lexer": "ipython3",
   "version": "3.11.11"
  }
 },
 "nbformat": 4,
 "nbformat_minor": 5
}
