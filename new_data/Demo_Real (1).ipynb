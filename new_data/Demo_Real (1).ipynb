{
 "cells": [
  {
   "cell_type": "code",
   "execution_count": 74,
   "id": "a858c065-f525-417d-990d-c6f7ece9a991",
   "metadata": {},
   "outputs": [],
   "source": [
    "import pandas as pd\n",
    "import numpy as np\n",
    "from sklearn.model_selection import train_test_split, GridSearchCV\n",
    "from sklearn.linear_model import LinearRegression, Lasso\n",
    "from sklearn.dummy import DummyRegressor\n",
    "from sklearn.metrics import mean_absolute_error, mean_squared_error, r2_score\n",
    "from sklearn.preprocessing import StandardScaler\n",
    "import joblib"
   ]
  },
  {
   "cell_type": "code",
   "execution_count": 84,
   "id": "303412a6-5df4-4cfd-9a0a-29a2a906ca4c",
   "metadata": {},
   "outputs": [
    {
     "name": "stdout",
     "output_type": "stream",
     "text": [
      "      Player  Goals  Assists  Shots  Market Value (in million Euros)\n",
      "0   Player 1     17        0     30                            22.29\n",
      "1   Player 2     26       10     32                            74.21\n",
      "2   Player 3      5       13     74                             3.98\n",
      "3   Player 4     28       10     27                             1.03\n",
      "4   Player 5     26        7     28                            89.68\n",
      "5   Player 6     22        7     56                            23.27\n",
      "6   Player 7      3       12     28                            79.73\n",
      "7   Player 8     19       15     40                            61.58\n",
      "8   Player 9     24       18     31                            34.38\n",
      "9  Player 10     20       18     25                            67.79\n"
     ]
    }
   ],
   "source": [
    "import random\n",
    "import pandas as pd\n",
    " \n",
    "# Function to generate random player stats\n",
    "def generate_player_stats(num_players=10):\n",
    "    players = []\n",
    "    for i in range(num_players):\n",
    "        player = {\n",
    "            'Player': f'Player {i+1}',\n",
    "            'Goals': random.randint(0, 30),\n",
    "            'Assists': random.randint(0, 20),\n",
    "            'Shots': random.randint(25, 75),\n",
    "            'Market Value (in million Euros)': round(random.uniform(1, 100), 2)\n",
    "        }\n",
    "        players.append(player)\n",
    "    return pd.DataFrame(players)\n",
    " \n",
    "# Generate the player stats\n",
    "player_stats_df = generate_player_stats()\n",
    "print(player_stats_df)\n",
    " "
   ]
  },
  {
   "cell_type": "code",
   "execution_count": 75,
   "id": "8f2d3905-01a2-4379-a323-6d32c3da512b",
   "metadata": {},
   "outputs": [],
   "source": [
    "loaded_model = joblib.load('best_gbr_model_11.pkl')"
   ]
  },
  {
   "cell_type": "code",
   "execution_count": 94,
   "id": "ddb8e827-4266-4d24-b4df-f849a7bf8366",
   "metadata": {},
   "outputs": [],
   "source": [
    "import pandas as pd\n",
    "\n",
    "# Create the DataFrame\n",
    "# change the value in xA, shots, goals, and euros\n",
    "demo = pd.DataFrame([\n",
    "    {\n",
    "     'minutes_played': 1691, #5-3420 avg:1691.426370\n",
    "    'goals': 26, #0-26         avg: 2.188356 (between 0-10)\n",
    "    'npg': 2, #0-21           avg:  2.035959\n",
    "    'assists': 7, #0-18       avg: 1.609589\n",
    "    'xG': 2, #0-25            avg: 2.166076\n",
    "    'xA': 2, #0-11            avg: 1.610312 (1 or 2)\n",
    "    'npxG': 2, #0-11          avg: 2.012398\n",
    "    'shots': 28, #0-11        avg: 21.625000 (between 0-10)\n",
    "    'key_passes': 16, #0-100  avg: 16.962329\n",
    "    'yellow_cards': 4, #0-14  avg: 3.582192\n",
    "    'red_cards': 0, #0-2      avg: 0.191781\n",
    "    'xGBuildup': 4, #0-20     avg: 3.683755\n",
    "    'xGChain': 7, #0-31       avg: 6.068694\n",
    "    'market_value_in_eur': 0, #2500 - 55000000 avg:  2,119,392.123288 (mil or 10 mil)\n",
    "    'height_in_cm': 182, #163-203 avg:182.501730\n",
    "    'age_in_months_2015': 320, #96 - 462 avg: 318.986301\n",
    "    'points_per_game':1.4 , #0.79 - 2.1 avg:1.473472\n",
    "    'position_x': 'F', #D F M S\n",
    "    }])\n",
    "\n"
   ]
  },
  {
   "cell_type": "code",
   "execution_count": 95,
   "id": "4e64549d-8f84-42cd-918d-cb0056c09411",
   "metadata": {},
   "outputs": [],
   "source": [
    "feature_columns = joblib.load('gbr_feature_names_11.pkl')\n",
    "demo = demo.reindex(columns=feature_columns, fill_value=0)"
   ]
  },
  {
   "cell_type": "code",
   "execution_count": 96,
   "id": "3c6f5273-72e5-4bea-a239-07c620b0da4f",
   "metadata": {},
   "outputs": [
    {
     "name": "stdout",
     "output_type": "stream",
     "text": [
      "Predicted performance valuation: 0.1615539518\n"
     ]
    }
   ],
   "source": [
    "prediction = loaded_model.predict(demo)\n",
    "\n",
    "# Output the prediction\n",
    "print(f\"Predicted performance valuation: {prediction[0]:.10f}\")"
   ]
  },
  {
   "cell_type": "code",
   "execution_count": null,
   "id": "359d67d0-a22a-42ce-82a6-a9225664329c",
   "metadata": {},
   "outputs": [],
   "source": []
  },
  {
   "cell_type": "code",
   "execution_count": null,
   "id": "9b5c3baa-abcc-4e8c-a462-3b3c1b4a5cae",
   "metadata": {},
   "outputs": [],
   "source": []
  },
  {
   "cell_type": "code",
   "execution_count": null,
   "id": "d047eada-f992-475b-8d63-b3a565ea0d95",
   "metadata": {},
   "outputs": [],
   "source": []
  },
  {
   "cell_type": "code",
   "execution_count": null,
   "id": "442db99c-cf83-426a-a4c7-7eb4a57265a3",
   "metadata": {},
   "outputs": [],
   "source": []
  },
  {
   "cell_type": "code",
   "execution_count": null,
   "id": "a2833f4c-a3b9-42b6-818c-edccab8e474a",
   "metadata": {},
   "outputs": [],
   "source": []
  },
  {
   "cell_type": "code",
   "execution_count": null,
   "id": "1a17a16e-370b-4025-80bb-c3a474aec13d",
   "metadata": {},
   "outputs": [],
   "source": []
  },
  {
   "cell_type": "code",
   "execution_count": null,
   "id": "96ff46a1-8903-42cb-8240-14121b3b0a97",
   "metadata": {},
   "outputs": [],
   "source": []
  },
  {
   "cell_type": "code",
   "execution_count": null,
   "id": "2fba8a88-8f47-4b01-815b-23e234181d79",
   "metadata": {},
   "outputs": [],
   "source": []
  },
  {
   "cell_type": "code",
   "execution_count": null,
   "id": "723c1dec-3f09-4ac8-b5c1-88baa31e293e",
   "metadata": {},
   "outputs": [],
   "source": []
  }
 ],
 "metadata": {
  "kernelspec": {
   "display_name": "Python 3 (ipykernel)",
   "language": "python",
   "name": "python3"
  },
  "language_info": {
   "codemirror_mode": {
    "name": "ipython",
    "version": 3
   },
   "file_extension": ".py",
   "mimetype": "text/x-python",
   "name": "python",
   "nbconvert_exporter": "python",
   "pygments_lexer": "ipython3",
   "version": "3.11.11"
  }
 },
 "nbformat": 4,
 "nbformat_minor": 5
}
