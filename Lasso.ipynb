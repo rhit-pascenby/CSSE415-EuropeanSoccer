{
 "cells": [
  {
   "cell_type": "code",
   "execution_count": 1,
   "id": "c6250632-33e8-46dd-907b-8acb8d2b9e9b",
   "metadata": {},
   "outputs": [],
   "source": [
    "import pandas as pd\n",
    "import numpy as np\n",
    "from sklearn.model_selection import train_test_split, GridSearchCV\n",
    "from sklearn.linear_model import LinearRegression, Lasso\n",
    "from sklearn.dummy import DummyRegressor\n",
    "from sklearn.metrics import mean_absolute_error, mean_squared_error, r2_score\n",
    "from sklearn.preprocessing import StandardScaler\n"
   ]
  },
  {
   "cell_type": "code",
   "execution_count": 2,
   "id": "9ddded99-de68-45ae-97a0-b1e8aea126af",
   "metadata": {},
   "outputs": [],
   "source": [
    "df = pd.read_csv('resources/test.csv')"
   ]
  },
  {
   "cell_type": "code",
   "execution_count": 3,
   "id": "3ca3cb39-b1d5-49eb-99b0-f2c9c5088ba5",
   "metadata": {},
   "outputs": [],
   "source": [
    "X = pd.get_dummies(df.drop('goals', axis=1), drop_first=True)\n",
    "X = X.dropna()\n",
    "\n",
    "y = df['goals']\n",
    "y = y[X.index]\n",
    "\n",
    "\n",
    "# Remove outliers from y using IQR method\n",
    "Q1 = y.quantile(0.25)\n",
    "Q3 = y.quantile(0.75)\n",
    "IQR = Q3 - Q1\n",
    "lower_bound = Q1 - 1.5 * IQR\n",
    "upper_bound = Q3 + 1.5 * IQR\n",
    "\n",
    "# Filter out outliers\n",
    "non_outliers = (y >= lower_bound) & (y <= upper_bound)\n",
    "X = X[non_outliers]\n",
    "y = y[non_outliers]\n",
    "\n",
    "\n",
    "X_train, X_test, y_train, y_test = train_test_split(X, y, test_size=0.2, random_state=42)"
   ]
  },
  {
   "cell_type": "code",
   "execution_count": 4,
   "id": "c4ac067d-14ee-4c49-b6f6-6089bf194c74",
   "metadata": {},
   "outputs": [
    {
     "name": "stdout",
     "output_type": "stream",
     "text": [
      "Lasso Regression Performance (After Hyperparameter Tuning):\n",
      "Best Alpha: 0.001\n",
      "R²: 0.61\n",
      "MSE: 0.01\n",
      "MAE: 0.06\n",
      "Best Lasso Prediction: 0.07, Actual: 0.07\n",
      "Worst Lasso Prediction: 0.05, Actual: 0.40\n"
     ]
    }
   ],
   "source": [
    "param_grid = {\n",
    "    'alpha': [0.001, 0.01, 0.1, 1, 10, 100],\n",
    "}\n",
    "lasso_model = Lasso()\n",
    "grid_search_lasso = GridSearchCV(lasso_model, param_grid, cv=5, n_jobs=-1, scoring='neg_mean_squared_error')\n",
    "grid_search_lasso.fit(X_train, y_train)\n",
    "\n",
    "best_lasso_params = grid_search_lasso.best_params_\n",
    "best_lasso_model = grid_search_lasso.best_estimator_\n",
    "lasso_predictions = best_lasso_model.predict(X_test)\n",
    "\n",
    "# Calculate performance metrics\n",
    "lasso_mse = mean_squared_error(y_test, lasso_predictions)\n",
    "lasso_r2 = r2_score(y_test, lasso_predictions)\n",
    "lasso_mae = mean_absolute_error(y_test, lasso_predictions)\n",
    "\n",
    "# Find best and worst predictions\n",
    "lasso_errors = abs(lasso_predictions - y_test)\n",
    "best_lasso_idx = lasso_errors.argmin()  # index of smallest error (best prediction)\n",
    "worst_lasso_idx = lasso_errors.argmax()  # index of largest error (worst prediction)\n",
    "\n",
    "best_lasso_prediction = lasso_predictions[best_lasso_idx]\n",
    "worst_lasso_prediction = lasso_predictions[worst_lasso_idx]\n",
    "best_lasso_actual = y_test.iloc[best_lasso_idx]\n",
    "worst_lasso_actual = y_test.iloc[worst_lasso_idx]\n",
    "\n",
    "# Print results for Lasso\n",
    "print(f\"Lasso Regression Performance (After Hyperparameter Tuning):\")\n",
    "print(f\"Best Alpha: {best_lasso_params['alpha']}\")\n",
    "print(f\"R²: {lasso_r2:.2f}\")\n",
    "print(f\"MSE: {lasso_mse:.2f}\")\n",
    "print(f\"MAE: {lasso_mae:.2f}\")\n",
    "print(f\"Best Lasso Prediction: {best_lasso_prediction:.2f}, Actual: {best_lasso_actual:.2f}\")\n",
    "print(f\"Worst Lasso Prediction: {worst_lasso_prediction:.2f}, Actual: {worst_lasso_actual:.2f}\")"
   ]
  },
  {
   "cell_type": "code",
   "execution_count": null,
   "id": "83317b56-5e09-4b09-a7e5-066e50d98cd3",
   "metadata": {},
   "outputs": [],
   "source": []
  },
  {
   "cell_type": "code",
   "execution_count": null,
   "id": "dc262921-b307-4875-9bf1-dbcd98d2ab5a",
   "metadata": {},
   "outputs": [],
   "source": []
  },
  {
   "cell_type": "code",
   "execution_count": null,
   "id": "6b7ef5ac-3bf7-4c26-987a-f16d55a88c73",
   "metadata": {},
   "outputs": [],
   "source": []
  },
  {
   "cell_type": "code",
   "execution_count": null,
   "id": "bde5fe76-3caf-4a46-9d24-ac018ea7db2a",
   "metadata": {},
   "outputs": [],
   "source": []
  },
  {
   "cell_type": "code",
   "execution_count": null,
   "id": "b297ccd1-3aa8-48e2-9dae-2c6b6da3c73b",
   "metadata": {},
   "outputs": [],
   "source": []
  }
 ],
 "metadata": {
  "kernelspec": {
   "display_name": "Python 3 (ipykernel)",
   "language": "python",
   "name": "python3"
  },
  "language_info": {
   "codemirror_mode": {
    "name": "ipython",
    "version": 3
   },
   "file_extension": ".py",
   "mimetype": "text/x-python",
   "name": "python",
   "nbconvert_exporter": "python",
   "pygments_lexer": "ipython3",
   "version": "3.12.4"
  }
 },
 "nbformat": 4,
 "nbformat_minor": 5
}
