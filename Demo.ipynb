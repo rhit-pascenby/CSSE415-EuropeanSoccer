{
 "cells": [
  {
   "cell_type": "code",
   "execution_count": 67,
   "id": "0ce8f0d3-ff6d-4ec4-ac3a-8eeb12a8d451",
   "metadata": {},
   "outputs": [],
   "source": [
    "import pandas as pd\n",
    "import numpy as np\n",
    "from sklearn.model_selection import train_test_split, GridSearchCV\n",
    "from sklearn.linear_model import LinearRegression, Lasso\n",
    "from sklearn.dummy import DummyRegressor\n",
    "from sklearn.metrics import mean_absolute_error, mean_squared_error, r2_score\n",
    "from sklearn.preprocessing import StandardScaler\n",
    "import joblib"
   ]
  },
  {
   "cell_type": "code",
   "execution_count": 68,
   "id": "55e45105-950b-470e-b885-71f912d3cead",
   "metadata": {},
   "outputs": [],
   "source": [
    "loaded_model = joblib.load('best_gbr_model.pkl')"
   ]
  },
  {
   "cell_type": "code",
   "execution_count": 85,
   "id": "0dcb67b9-0c09-4d7f-b886-84bd7dfa4003",
   "metadata": {},
   "outputs": [],
   "source": [
    "import pandas as pd\n",
    "\n",
    "data = [{\n",
    "    'player_name': 'David Silva',\n",
    "    'minutes_played': 2682,\n",
    "    'goals': 3,\n",
    "    'npg': 12,\n",
    "    'assists': 7,\n",
    "    'xG': 9.096987545490263,\n",
    "    'xA': 10.388413229957225,\n",
    "    'npxG': 9.096987545490263,\n",
    "    'xG90': 0.3052680384392706,\n",
    "    'xA90': 0.3486044708039336,\n",
    "    'npxG90': 0.3052680384392706,\n",
    "    'position_x': 'M',\n",
    "    'shots': 66,\n",
    "    'key_passes': 92,\n",
    "    'yellow_cards': 8,\n",
    "    'red_cards': 0,\n",
    "    'xGBuildup': 16.633573447354138,\n",
    "    'xGChain': 29.14427815377712,\n",
    "    'market_value_in_eur': 500000.0,\n",
    "    'height_in_cm': 178.0,\n",
    "    'age_in_months_2015': 341.0,\n",
    "    'points_per_game': 1.9276315789473684,\n",
    "    'team_rank': 13,\n",
    "    'player_performance_valuation_standardized': 11.325040855710744\n",
    "}]\n",
    "\n",
    "df_david_silva = pd.DataFrame(data)\n",
    "# Drop columns not used in training\n",
    "df_david_silva_input = df_david_silva.drop(['player_name', 'player_performance_valuation_standardized', 'team_rank'], axis=1)\n",
    "\n",
    "# One-hot encode the categorical column\n",
    "df_david_silva_encoded = pd.get_dummies(df_david_silva_input, drop_first=True)\n"
   ]
  },
  {
   "cell_type": "code",
   "execution_count": 86,
   "id": "66941a50-bdae-467e-b684-253aa9f943f6",
   "metadata": {},
   "outputs": [],
   "source": [
    "import pandas as pd\n",
    "feature_columns = joblib.load('gbr_feature_names.pkl')\n",
    "# Sample data: a list of dictionaries, each representing a player\n",
    "df_david_silva_encoded = df_david_silva_encoded.reindex(columns=feature_columns, fill_value=0)\n"
   ]
  },
  {
   "cell_type": "code",
   "execution_count": 87,
   "id": "8322386f-eefa-4bfb-9cce-7e916c436301",
   "metadata": {},
   "outputs": [
    {
     "name": "stdout",
     "output_type": "stream",
     "text": [
      "Predicted performance valuation: 0.0908856830\n"
     ]
    }
   ],
   "source": [
    "\n",
    "\n",
    "prediction = model.predict(df_david_silva_encoded)\n",
    "\n",
    "# Output the prediction\n",
    "print(f\"Predicted performance valuation: {prediction[0]:.10f}\")"
   ]
  },
  {
   "cell_type": "code",
   "execution_count": null,
   "id": "f2cd38e9-8c32-41ea-ab2e-ec1dea2b926d",
   "metadata": {},
   "outputs": [],
   "source": []
  },
  {
   "cell_type": "code",
   "execution_count": null,
   "id": "344812ad-c49e-4f9a-b8b1-c3d9965bb7f5",
   "metadata": {},
   "outputs": [],
   "source": []
  }
 ],
 "metadata": {
  "kernelspec": {
   "display_name": "Python 3 (ipykernel)",
   "language": "python",
   "name": "python3"
  },
  "language_info": {
   "codemirror_mode": {
    "name": "ipython",
    "version": 3
   },
   "file_extension": ".py",
   "mimetype": "text/x-python",
   "name": "python",
   "nbconvert_exporter": "python",
   "pygments_lexer": "ipython3",
   "version": "3.11.11"
  }
 },
 "nbformat": 4,
 "nbformat_minor": 5
}
